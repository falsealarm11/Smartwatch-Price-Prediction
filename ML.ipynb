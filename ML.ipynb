{
 "cells": [
  {
   "cell_type": "code",
   "execution_count": 1,
   "metadata": {},
   "outputs": [
    {
     "name": "stderr",
     "output_type": "stream",
     "text": [
      "c:\\Users\\Deathnote\\AppData\\Local\\Programs\\Python\\Python310\\lib\\site-packages\\numpy\\_distributor_init.py:30: UserWarning: loaded more than 1 DLL from .libs:\n",
      "c:\\Users\\Deathnote\\AppData\\Local\\Programs\\Python\\Python310\\lib\\site-packages\\numpy\\.libs\\libopenblas.FB5AE2TYXYH2IJRDKGDGQ3XBKLKTF43H.gfortran-win_amd64.dll\n",
      "c:\\Users\\Deathnote\\AppData\\Local\\Programs\\Python\\Python310\\lib\\site-packages\\numpy\\.libs\\libopenblas64__v0.3.21-gcc_10_3_0.dll\n",
      "  warnings.warn(\"loaded more than 1 DLL from .libs:\"\n"
     ]
    }
   ],
   "source": [
    "# import libraries\n",
    "import numpy as np\n",
    "import pandas as pd\n",
    "import matplotlib.pyplot as plt\n",
    "import seaborn as sns\n",
    "import pickle\n",
    "from sklearn.preprocessing import LabelEncoder\n",
    "from sklearn.metrics import r2_score\n",
    "from sklearn.model_selection import train_test_split\n",
    "from sklearn.linear_model import LinearRegression\n",
    "from xgboost import XGBRegressor\n",
    "from sklearn.tree import DecisionTreeRegressor\n",
    "from sklearn.ensemble import RandomForestRegressor\n",
    "from sklearn.ensemble import GradientBoostingRegressor\n",
    "from sklearn.model_selection import GridSearchCV\n",
    "from sklearn.metrics import mean_squared_error, mean_squared_log_error\n",
    "\n"
   ]
  },
  {
   "cell_type": "code",
   "execution_count": 2,
   "metadata": {},
   "outputs": [],
   "source": [
    "# Reading the bodyfat.csv file using pandas and storing it in df.\n",
    "df = pd.read_csv(\"Smart watch prices.csv\")"
   ]
  },
  {
   "cell_type": "code",
   "execution_count": 3,
   "metadata": {},
   "outputs": [
    {
     "data": {
      "text/html": [
       "<div>\n",
       "<style scoped>\n",
       "    .dataframe tbody tr th:only-of-type {\n",
       "        vertical-align: middle;\n",
       "    }\n",
       "\n",
       "    .dataframe tbody tr th {\n",
       "        vertical-align: top;\n",
       "    }\n",
       "\n",
       "    .dataframe thead th {\n",
       "        text-align: right;\n",
       "    }\n",
       "</style>\n",
       "<table border=\"1\" class=\"dataframe\">\n",
       "  <thead>\n",
       "    <tr style=\"text-align: right;\">\n",
       "      <th></th>\n",
       "      <th>Brand</th>\n",
       "      <th>Model</th>\n",
       "      <th>Operating System</th>\n",
       "      <th>Connectivity</th>\n",
       "      <th>Display Type</th>\n",
       "      <th>Display Size (inches)</th>\n",
       "      <th>Resolution</th>\n",
       "      <th>Water Resistance (meters)</th>\n",
       "      <th>Battery Life (days)</th>\n",
       "      <th>Heart Rate Monitor</th>\n",
       "      <th>GPS</th>\n",
       "      <th>NFC</th>\n",
       "      <th>Price (USD)</th>\n",
       "    </tr>\n",
       "  </thead>\n",
       "  <tbody>\n",
       "    <tr>\n",
       "      <th>0</th>\n",
       "      <td>Apple</td>\n",
       "      <td>Watch Series 7</td>\n",
       "      <td>watchOS</td>\n",
       "      <td>Bluetooth, Wi-Fi, Cellular</td>\n",
       "      <td>Retina</td>\n",
       "      <td>1.90</td>\n",
       "      <td>396 x 484</td>\n",
       "      <td>50</td>\n",
       "      <td>18</td>\n",
       "      <td>Yes</td>\n",
       "      <td>Yes</td>\n",
       "      <td>Yes</td>\n",
       "      <td>$399</td>\n",
       "    </tr>\n",
       "    <tr>\n",
       "      <th>1</th>\n",
       "      <td>Samsung</td>\n",
       "      <td>Galaxy Watch 4</td>\n",
       "      <td>Wear OS</td>\n",
       "      <td>Bluetooth, Wi-Fi, Cellular</td>\n",
       "      <td>AMOLED</td>\n",
       "      <td>1.40</td>\n",
       "      <td>450 x 450</td>\n",
       "      <td>50</td>\n",
       "      <td>40</td>\n",
       "      <td>Yes</td>\n",
       "      <td>Yes</td>\n",
       "      <td>Yes</td>\n",
       "      <td>$249</td>\n",
       "    </tr>\n",
       "    <tr>\n",
       "      <th>2</th>\n",
       "      <td>Garmin</td>\n",
       "      <td>Venu 2</td>\n",
       "      <td>Garmin OS</td>\n",
       "      <td>Bluetooth, Wi-Fi</td>\n",
       "      <td>AMOLED</td>\n",
       "      <td>1.30</td>\n",
       "      <td>416 x 416</td>\n",
       "      <td>50</td>\n",
       "      <td>11</td>\n",
       "      <td>Yes</td>\n",
       "      <td>Yes</td>\n",
       "      <td>No</td>\n",
       "      <td>$399</td>\n",
       "    </tr>\n",
       "    <tr>\n",
       "      <th>3</th>\n",
       "      <td>Fitbit</td>\n",
       "      <td>Versa 3</td>\n",
       "      <td>Fitbit OS</td>\n",
       "      <td>Bluetooth, Wi-Fi</td>\n",
       "      <td>AMOLED</td>\n",
       "      <td>1.58</td>\n",
       "      <td>336 x 336</td>\n",
       "      <td>50</td>\n",
       "      <td>6</td>\n",
       "      <td>Yes</td>\n",
       "      <td>Yes</td>\n",
       "      <td>Yes</td>\n",
       "      <td>$229</td>\n",
       "    </tr>\n",
       "    <tr>\n",
       "      <th>4</th>\n",
       "      <td>Fossil</td>\n",
       "      <td>Gen 6</td>\n",
       "      <td>Wear OS</td>\n",
       "      <td>Bluetooth, Wi-Fi</td>\n",
       "      <td>AMOLED</td>\n",
       "      <td>1.28</td>\n",
       "      <td>416 x 416</td>\n",
       "      <td>30</td>\n",
       "      <td>24</td>\n",
       "      <td>Yes</td>\n",
       "      <td>Yes</td>\n",
       "      <td>Yes</td>\n",
       "      <td>$299</td>\n",
       "    </tr>\n",
       "  </tbody>\n",
       "</table>\n",
       "</div>"
      ],
      "text/plain": [
       "     Brand           Model Operating System                Connectivity  \\\n",
       "0    Apple  Watch Series 7          watchOS  Bluetooth, Wi-Fi, Cellular   \n",
       "1  Samsung  Galaxy Watch 4          Wear OS  Bluetooth, Wi-Fi, Cellular   \n",
       "2   Garmin          Venu 2        Garmin OS            Bluetooth, Wi-Fi   \n",
       "3   Fitbit         Versa 3        Fitbit OS            Bluetooth, Wi-Fi   \n",
       "4   Fossil           Gen 6          Wear OS            Bluetooth, Wi-Fi   \n",
       "\n",
       "  Display Type  Display Size (inches) Resolution Water Resistance (meters)  \\\n",
       "0       Retina                   1.90  396 x 484                        50   \n",
       "1       AMOLED                   1.40  450 x 450                        50   \n",
       "2       AMOLED                   1.30  416 x 416                        50   \n",
       "3       AMOLED                   1.58  336 x 336                        50   \n",
       "4       AMOLED                   1.28  416 x 416                        30   \n",
       "\n",
       "  Battery Life (days) Heart Rate Monitor  GPS  NFC Price (USD)  \n",
       "0                  18                Yes  Yes  Yes       $399   \n",
       "1                  40                Yes  Yes  Yes       $249   \n",
       "2                  11                Yes  Yes   No       $399   \n",
       "3                   6                Yes  Yes  Yes       $229   \n",
       "4                  24                Yes  Yes  Yes       $299   "
      ]
     },
     "execution_count": 3,
     "metadata": {},
     "output_type": "execute_result"
    }
   ],
   "source": [
    "# displays first 5 rows of the dataset.\n",
    "df.head()"
   ]
  },
  {
   "cell_type": "code",
   "execution_count": 4,
   "metadata": {},
   "outputs": [
    {
     "name": "stdout",
     "output_type": "stream",
     "text": [
      "<class 'pandas.core.frame.DataFrame'>\n",
      "RangeIndex: 379 entries, 0 to 378\n",
      "Data columns (total 13 columns):\n",
      " #   Column                     Non-Null Count  Dtype  \n",
      "---  ------                     --------------  -----  \n",
      " 0   Brand                      378 non-null    object \n",
      " 1   Model                      378 non-null    object \n",
      " 2   Operating System           376 non-null    object \n",
      " 3   Connectivity               378 non-null    object \n",
      " 4   Display Type               377 non-null    object \n",
      " 5   Display Size (inches)      376 non-null    float64\n",
      " 6   Resolution                 375 non-null    object \n",
      " 7   Water Resistance (meters)  378 non-null    object \n",
      " 8   Battery Life (days)        378 non-null    object \n",
      " 9   Heart Rate Monitor         378 non-null    object \n",
      " 10  GPS                        378 non-null    object \n",
      " 11  NFC                        378 non-null    object \n",
      " 12  Price (USD)                378 non-null    object \n",
      "dtypes: float64(1), object(12)\n",
      "memory usage: 38.6+ KB\n"
     ]
    }
   ],
   "source": [
    "df.info()"
   ]
  },
  {
   "cell_type": "code",
   "execution_count": 9,
   "metadata": {},
   "outputs": [
    {
     "data": {
      "text/html": [
       "<div>\n",
       "<style scoped>\n",
       "    .dataframe tbody tr th:only-of-type {\n",
       "        vertical-align: middle;\n",
       "    }\n",
       "\n",
       "    .dataframe tbody tr th {\n",
       "        vertical-align: top;\n",
       "    }\n",
       "\n",
       "    .dataframe thead th {\n",
       "        text-align: right;\n",
       "    }\n",
       "</style>\n",
       "<table border=\"1\" class=\"dataframe\">\n",
       "  <thead>\n",
       "    <tr style=\"text-align: right;\">\n",
       "      <th></th>\n",
       "      <th>Brand</th>\n",
       "      <th>Model</th>\n",
       "      <th>Operating System</th>\n",
       "      <th>Connectivity</th>\n",
       "      <th>Display Type</th>\n",
       "      <th>Display Size (inches)</th>\n",
       "      <th>Resolution</th>\n",
       "      <th>Water Resistance (meters)</th>\n",
       "      <th>Battery Life (days)</th>\n",
       "      <th>Heart Rate Monitor</th>\n",
       "      <th>GPS</th>\n",
       "      <th>NFC</th>\n",
       "      <th>Price (USD)</th>\n",
       "    </tr>\n",
       "  </thead>\n",
       "  <tbody>\n",
       "    <tr>\n",
       "      <th>count</th>\n",
       "      <td>378</td>\n",
       "      <td>378</td>\n",
       "      <td>376</td>\n",
       "      <td>378</td>\n",
       "      <td>377</td>\n",
       "      <td>376.000000</td>\n",
       "      <td>375</td>\n",
       "      <td>378</td>\n",
       "      <td>378</td>\n",
       "      <td>378</td>\n",
       "      <td>378</td>\n",
       "      <td>378</td>\n",
       "      <td>378</td>\n",
       "    </tr>\n",
       "    <tr>\n",
       "      <th>unique</th>\n",
       "      <td>42</td>\n",
       "      <td>137</td>\n",
       "      <td>35</td>\n",
       "      <td>5</td>\n",
       "      <td>27</td>\n",
       "      <td>NaN</td>\n",
       "      <td>36</td>\n",
       "      <td>7</td>\n",
       "      <td>30</td>\n",
       "      <td>1</td>\n",
       "      <td>2</td>\n",
       "      <td>2</td>\n",
       "      <td>50</td>\n",
       "    </tr>\n",
       "    <tr>\n",
       "      <th>top</th>\n",
       "      <td>Garmin</td>\n",
       "      <td>Sense</td>\n",
       "      <td>Wear OS</td>\n",
       "      <td>Bluetooth, Wi-Fi</td>\n",
       "      <td>AMOLED</td>\n",
       "      <td>NaN</td>\n",
       "      <td>454 x 454</td>\n",
       "      <td>50</td>\n",
       "      <td>14</td>\n",
       "      <td>Yes</td>\n",
       "      <td>Yes</td>\n",
       "      <td>Yes</td>\n",
       "      <td>$299</td>\n",
       "    </tr>\n",
       "    <tr>\n",
       "      <th>freq</th>\n",
       "      <td>34</td>\n",
       "      <td>15</td>\n",
       "      <td>131</td>\n",
       "      <td>293</td>\n",
       "      <td>207</td>\n",
       "      <td>NaN</td>\n",
       "      <td>90</td>\n",
       "      <td>275</td>\n",
       "      <td>83</td>\n",
       "      <td>378</td>\n",
       "      <td>348</td>\n",
       "      <td>317</td>\n",
       "      <td>57</td>\n",
       "    </tr>\n",
       "    <tr>\n",
       "      <th>mean</th>\n",
       "      <td>NaN</td>\n",
       "      <td>NaN</td>\n",
       "      <td>NaN</td>\n",
       "      <td>NaN</td>\n",
       "      <td>NaN</td>\n",
       "      <td>1.363165</td>\n",
       "      <td>NaN</td>\n",
       "      <td>NaN</td>\n",
       "      <td>NaN</td>\n",
       "      <td>NaN</td>\n",
       "      <td>NaN</td>\n",
       "      <td>NaN</td>\n",
       "      <td>NaN</td>\n",
       "    </tr>\n",
       "    <tr>\n",
       "      <th>std</th>\n",
       "      <td>NaN</td>\n",
       "      <td>NaN</td>\n",
       "      <td>NaN</td>\n",
       "      <td>NaN</td>\n",
       "      <td>NaN</td>\n",
       "      <td>0.218986</td>\n",
       "      <td>NaN</td>\n",
       "      <td>NaN</td>\n",
       "      <td>NaN</td>\n",
       "      <td>NaN</td>\n",
       "      <td>NaN</td>\n",
       "      <td>NaN</td>\n",
       "      <td>NaN</td>\n",
       "    </tr>\n",
       "    <tr>\n",
       "      <th>min</th>\n",
       "      <td>NaN</td>\n",
       "      <td>NaN</td>\n",
       "      <td>NaN</td>\n",
       "      <td>NaN</td>\n",
       "      <td>NaN</td>\n",
       "      <td>0.900000</td>\n",
       "      <td>NaN</td>\n",
       "      <td>NaN</td>\n",
       "      <td>NaN</td>\n",
       "      <td>NaN</td>\n",
       "      <td>NaN</td>\n",
       "      <td>NaN</td>\n",
       "      <td>NaN</td>\n",
       "    </tr>\n",
       "    <tr>\n",
       "      <th>25%</th>\n",
       "      <td>NaN</td>\n",
       "      <td>NaN</td>\n",
       "      <td>NaN</td>\n",
       "      <td>NaN</td>\n",
       "      <td>NaN</td>\n",
       "      <td>1.200000</td>\n",
       "      <td>NaN</td>\n",
       "      <td>NaN</td>\n",
       "      <td>NaN</td>\n",
       "      <td>NaN</td>\n",
       "      <td>NaN</td>\n",
       "      <td>NaN</td>\n",
       "      <td>NaN</td>\n",
       "    </tr>\n",
       "    <tr>\n",
       "      <th>50%</th>\n",
       "      <td>NaN</td>\n",
       "      <td>NaN</td>\n",
       "      <td>NaN</td>\n",
       "      <td>NaN</td>\n",
       "      <td>NaN</td>\n",
       "      <td>1.390000</td>\n",
       "      <td>NaN</td>\n",
       "      <td>NaN</td>\n",
       "      <td>NaN</td>\n",
       "      <td>NaN</td>\n",
       "      <td>NaN</td>\n",
       "      <td>NaN</td>\n",
       "      <td>NaN</td>\n",
       "    </tr>\n",
       "    <tr>\n",
       "      <th>75%</th>\n",
       "      <td>NaN</td>\n",
       "      <td>NaN</td>\n",
       "      <td>NaN</td>\n",
       "      <td>NaN</td>\n",
       "      <td>NaN</td>\n",
       "      <td>1.400000</td>\n",
       "      <td>NaN</td>\n",
       "      <td>NaN</td>\n",
       "      <td>NaN</td>\n",
       "      <td>NaN</td>\n",
       "      <td>NaN</td>\n",
       "      <td>NaN</td>\n",
       "      <td>NaN</td>\n",
       "    </tr>\n",
       "    <tr>\n",
       "      <th>max</th>\n",
       "      <td>NaN</td>\n",
       "      <td>NaN</td>\n",
       "      <td>NaN</td>\n",
       "      <td>NaN</td>\n",
       "      <td>NaN</td>\n",
       "      <td>4.010000</td>\n",
       "      <td>NaN</td>\n",
       "      <td>NaN</td>\n",
       "      <td>NaN</td>\n",
       "      <td>NaN</td>\n",
       "      <td>NaN</td>\n",
       "      <td>NaN</td>\n",
       "      <td>NaN</td>\n",
       "    </tr>\n",
       "  </tbody>\n",
       "</table>\n",
       "</div>"
      ],
      "text/plain": [
       "         Brand  Model Operating System      Connectivity Display Type  \\\n",
       "count      378    378              376               378          377   \n",
       "unique      42    137               35                 5           27   \n",
       "top     Garmin  Sense          Wear OS  Bluetooth, Wi-Fi       AMOLED   \n",
       "freq        34     15              131               293          207   \n",
       "mean       NaN    NaN              NaN               NaN          NaN   \n",
       "std        NaN    NaN              NaN               NaN          NaN   \n",
       "min        NaN    NaN              NaN               NaN          NaN   \n",
       "25%        NaN    NaN              NaN               NaN          NaN   \n",
       "50%        NaN    NaN              NaN               NaN          NaN   \n",
       "75%        NaN    NaN              NaN               NaN          NaN   \n",
       "max        NaN    NaN              NaN               NaN          NaN   \n",
       "\n",
       "        Display Size (inches) Resolution Water Resistance (meters)  \\\n",
       "count              376.000000        375                       378   \n",
       "unique                    NaN         36                         7   \n",
       "top                       NaN  454 x 454                        50   \n",
       "freq                      NaN         90                       275   \n",
       "mean                 1.363165        NaN                       NaN   \n",
       "std                  0.218986        NaN                       NaN   \n",
       "min                  0.900000        NaN                       NaN   \n",
       "25%                  1.200000        NaN                       NaN   \n",
       "50%                  1.390000        NaN                       NaN   \n",
       "75%                  1.400000        NaN                       NaN   \n",
       "max                  4.010000        NaN                       NaN   \n",
       "\n",
       "       Battery Life (days) Heart Rate Monitor  GPS  NFC Price (USD)  \n",
       "count                  378                378  378  378         378  \n",
       "unique                  30                  1    2    2          50  \n",
       "top                     14                Yes  Yes  Yes       $299   \n",
       "freq                    83                378  348  317          57  \n",
       "mean                   NaN                NaN  NaN  NaN         NaN  \n",
       "std                    NaN                NaN  NaN  NaN         NaN  \n",
       "min                    NaN                NaN  NaN  NaN         NaN  \n",
       "25%                    NaN                NaN  NaN  NaN         NaN  \n",
       "50%                    NaN                NaN  NaN  NaN         NaN  \n",
       "75%                    NaN                NaN  NaN  NaN         NaN  \n",
       "max                    NaN                NaN  NaN  NaN         NaN  "
      ]
     },
     "execution_count": 9,
     "metadata": {},
     "output_type": "execute_result"
    }
   ],
   "source": [
    "df.describe(include= 'all')"
   ]
  },
  {
   "cell_type": "code",
   "execution_count": 665,
   "metadata": {},
   "outputs": [
    {
     "name": "stdout",
     "output_type": "stream",
     "text": [
      "Garmin          34\n",
      "Mobvoi          24\n",
      "Fitbit          24\n",
      "Fossil          23\n",
      "Amazfit         20\n",
      "Samsung         19\n",
      "Huawei          19\n",
      "TicWatch        18\n",
      "Xiaomi          17\n",
      "Skagen          17\n",
      "Suunto          16\n",
      "Honor           14\n",
      "Apple           14\n",
      "Polar           12\n",
      "Casio           10\n",
      "Withings         9\n",
      "Oppo             9\n",
      "Timex            8\n",
      "Diesel           7\n",
      "Misfit           7\n",
      "LG               6\n",
      "Zepp             6\n",
      "Michael Kors     6\n",
      "TAG Heuer        4\n",
      "Name: Brand, dtype: int64\n"
     ]
    }
   ],
   "source": [
    "display_types = df['Brand'].value_counts().sort_values(ascending=False)\n",
    "print(display_types.iloc[:24])"
   ]
  },
  {
   "cell_type": "code",
   "execution_count": 666,
   "metadata": {},
   "outputs": [
    {
     "name": "stdout",
     "output_type": "stream",
     "text": [
      "Sense               15\n",
      "Falster 3           14\n",
      "Sport               13\n",
      "Watch GT 2 Pro      12\n",
      "TicWatch E3         12\n",
      "Forerunner 945      12\n",
      "Mi Watch Revolve    10\n",
      "9 Peak               8\n",
      "7                    7\n",
      "Galaxy Watch 3       7\n",
      "Watch SE             7\n",
      "ScanWatch            7\n",
      "Pro 3                7\n",
      "GTR 2                7\n",
      "Watch GS Pro         6\n",
      "GTR 2e               6\n",
      "Watch Series 6       6\n",
      "Vantage V2           5\n",
      "Hybrid HR            5\n",
      "Venu Sq              5\n",
      "MagicWatch 2         5\n",
      "TicWatch Pro 3       5\n",
      "Vapor X              5\n",
      "Z                    5\n",
      "Name: Model, dtype: int64\n"
     ]
    }
   ],
   "source": [
    "display_types = df['Model'].value_counts().sort_values(ascending=False)\n",
    "print(display_types.iloc[:24])"
   ]
  },
  {
   "cell_type": "code",
   "execution_count": 667,
   "metadata": {},
   "outputs": [
    {
     "name": "stdout",
     "output_type": "stream",
     "text": [
      "Wear OS           131\n",
      "Garmin OS          34\n",
      "Lite OS            26\n",
      "Fitbit OS          24\n",
      "Amazfit OS         19\n",
      "watchOS            14\n",
      "Tizen OS           14\n",
      "Proprietary OS     12\n",
      "Polar OS           11\n",
      "Proprietary         9\n",
      "Suunto OS           9\n",
      "Android Wear        9\n",
      "ColorOS             7\n",
      "Withings OS         6\n",
      "Zepp OS             5\n",
      "Casio OS            4\n",
      "Timex OS            4\n",
      "LiteOS              4\n",
      "Tizen               4\n",
      "HarmonyOS           3\n",
      "Custom OS           3\n",
      "Fossil OS           3\n",
      "Android OS          3\n",
      "Android             2\n",
      "Name: Operating System, dtype: int64\n"
     ]
    }
   ],
   "source": [
    "display_types = df['Operating System'].value_counts().sort_values(ascending=False)\n",
    "print(display_types.iloc[:24])"
   ]
  },
  {
   "cell_type": "code",
   "execution_count": 668,
   "metadata": {},
   "outputs": [
    {
     "name": "stdout",
     "output_type": "stream",
     "text": [
      "Yes    348\n",
      "No      30\n",
      "Name: GPS, dtype: int64\n"
     ]
    }
   ],
   "source": [
    "display_types = df['GPS'].value_counts().sort_values(ascending=False)\n",
    "print(display_types.iloc[:])"
   ]
  },
  {
   "cell_type": "code",
   "execution_count": 669,
   "metadata": {},
   "outputs": [
    {
     "data": {
      "text/plain": [
       "Brand                        1\n",
       "Model                        1\n",
       "Operating System             3\n",
       "Connectivity                 1\n",
       "Display Type                 2\n",
       "Display Size (inches)        3\n",
       "Resolution                   4\n",
       "Water Resistance (meters)    1\n",
       "Battery Life (days)          1\n",
       "Heart Rate Monitor           1\n",
       "GPS                          1\n",
       "NFC                          1\n",
       "Price (USD)                  1\n",
       "dtype: int64"
      ]
     },
     "execution_count": 669,
     "metadata": {},
     "output_type": "execute_result"
    }
   ],
   "source": [
    "df.isna().sum()"
   ]
  },
  {
   "cell_type": "code",
   "execution_count": 670,
   "metadata": {},
   "outputs": [],
   "source": [
    "# Replace null values in object columns with mode\n",
    "object_columns = df.select_dtypes(include=[\"object\"]).columns\n",
    "for col in object_columns:\n",
    "    mode_value = df[col].mode()[0]\n",
    "    df[col] = df[col].fillna(mode_value)\n"
   ]
  },
  {
   "cell_type": "code",
   "execution_count": 671,
   "metadata": {},
   "outputs": [],
   "source": [
    "# Replace null values in float column with mean\n",
    "float_column = df.select_dtypes(include=[\"float64\"]).columns\n",
    "for col in float_column:\n",
    "    mean_value = df[col].mean()\n",
    "    df[col] = df[col].fillna(mean_value)"
   ]
  },
  {
   "cell_type": "code",
   "execution_count": 672,
   "metadata": {},
   "outputs": [
    {
     "data": {
      "text/plain": [
       "Brand                        0\n",
       "Model                        0\n",
       "Operating System             0\n",
       "Connectivity                 0\n",
       "Display Type                 0\n",
       "Display Size (inches)        0\n",
       "Resolution                   0\n",
       "Water Resistance (meters)    0\n",
       "Battery Life (days)          0\n",
       "Heart Rate Monitor           0\n",
       "GPS                          0\n",
       "NFC                          0\n",
       "Price (USD)                  0\n",
       "dtype: int64"
      ]
     },
     "execution_count": 672,
     "metadata": {},
     "output_type": "execute_result"
    }
   ],
   "source": [
    "df.isna().sum()"
   ]
  },
  {
   "cell_type": "code",
   "execution_count": 673,
   "metadata": {},
   "outputs": [],
   "source": [
    "df = df.rename(columns={\n",
    "    'Display Size (inches)' : 'Display Size',\n",
    "    'Water Resistance (meters)' : 'Water Resistance',\n",
    "    'Battery Life (days)' : 'Battery Life',\n",
    "    'Price (USD)' : 'Price'\n",
    "})"
   ]
  },
  {
   "cell_type": "code",
   "execution_count": 674,
   "metadata": {},
   "outputs": [
    {
     "data": {
      "text/plain": [
       "array(['50', '30', '100', '1.5', 'Not specified', '200', '10'],\n",
       "      dtype=object)"
      ]
     },
     "execution_count": 674,
     "metadata": {},
     "output_type": "execute_result"
    }
   ],
   "source": [
    "df['Water Resistance'].unique()"
   ]
  },
  {
   "cell_type": "code",
   "execution_count": 675,
   "metadata": {},
   "outputs": [
    {
     "data": {
      "text/plain": [
       "count     379\n",
       "unique      7\n",
       "top        50\n",
       "freq      276\n",
       "Name: Water Resistance, dtype: object"
      ]
     },
     "execution_count": 675,
     "metadata": {},
     "output_type": "execute_result"
    }
   ],
   "source": [
    "df['Water Resistance'].describe()"
   ]
  },
  {
   "cell_type": "code",
   "execution_count": 676,
   "metadata": {},
   "outputs": [],
   "source": [
    "df['Water Resistance'] = df['Water Resistance'].replace({'Not specified' : '50'})"
   ]
  },
  {
   "cell_type": "code",
   "execution_count": 677,
   "metadata": {},
   "outputs": [
    {
     "data": {
      "text/plain": [
       "array([1.9       , 1.4       , 1.3       , 1.58      , 1.28      ,\n",
       "       1.43      , 1.75      , 1.39      , 1.36316489, 1.65      ,\n",
       "       1.2       , 1.57      , 1.        , 1.78      , 1.91      ,\n",
       "       1.38      , 1.06      , 1.35      , 1.34      , 0.9       ,\n",
       "       1.04      , 1.64      , 1.19      , 4.01      , 1.6       ,\n",
       "       1.42      , 2.1       , 1.23      , 1.1       , 1.22      ,\n",
       "       1.5       , 1.36      , 1.32      ])"
      ]
     },
     "execution_count": 677,
     "metadata": {},
     "output_type": "execute_result"
    }
   ],
   "source": [
    "df['Display Size'].unique()"
   ]
  },
  {
   "cell_type": "code",
   "execution_count": 678,
   "metadata": {},
   "outputs": [],
   "source": [
    "df['Display Size'] = df['Display Size'].round(1)"
   ]
  },
  {
   "cell_type": "code",
   "execution_count": 679,
   "metadata": {},
   "outputs": [
    {
     "data": {
      "text/plain": [
       "array(['18', '40', '11', '6', '24', '14', '2', '4', '12', '30', '3', '45',\n",
       "       '5', '10', '48', '7', '16', '9', '25', '72', '60', '56', '70', '1',\n",
       "       '48 hours', '15', 'Unlimited', '1.5', '20', '8'], dtype=object)"
      ]
     },
     "execution_count": 679,
     "metadata": {},
     "output_type": "execute_result"
    }
   ],
   "source": [
    "df['Battery Life'].unique()"
   ]
  },
  {
   "cell_type": "code",
   "execution_count": 680,
   "metadata": {},
   "outputs": [
    {
     "data": {
      "text/plain": [
       "count     379\n",
       "unique     30\n",
       "top        14\n",
       "freq       84\n",
       "Name: Battery Life, dtype: object"
      ]
     },
     "execution_count": 680,
     "metadata": {},
     "output_type": "execute_result"
    }
   ],
   "source": [
    "df['Battery Life'].describe()"
   ]
  },
  {
   "cell_type": "code",
   "execution_count": 681,
   "metadata": {},
   "outputs": [],
   "source": [
    "df['Battery Life'] = df['Battery Life'].replace({'48 hours' : '14', 'Unlimited' : '14'})"
   ]
  },
  {
   "cell_type": "code",
   "execution_count": 682,
   "metadata": {},
   "outputs": [],
   "source": [
    "df['Price'] = df['Price'].str[1:]"
   ]
  },
  {
   "cell_type": "code",
   "execution_count": 683,
   "metadata": {},
   "outputs": [],
   "source": [
    "#df['Price'] = df['Price'].replace(',','')\n",
    "df['Price'] = df['Price'].str.replace(',', '')"
   ]
  },
  {
   "cell_type": "code",
   "execution_count": 684,
   "metadata": {},
   "outputs": [],
   "source": [
    "df['Price'] = df['Price'].str.strip()"
   ]
  },
  {
   "cell_type": "code",
   "execution_count": 685,
   "metadata": {},
   "outputs": [
    {
     "data": {
      "text/html": [
       "<div>\n",
       "<style scoped>\n",
       "    .dataframe tbody tr th:only-of-type {\n",
       "        vertical-align: middle;\n",
       "    }\n",
       "\n",
       "    .dataframe tbody tr th {\n",
       "        vertical-align: top;\n",
       "    }\n",
       "\n",
       "    .dataframe thead th {\n",
       "        text-align: right;\n",
       "    }\n",
       "</style>\n",
       "<table border=\"1\" class=\"dataframe\">\n",
       "  <thead>\n",
       "    <tr style=\"text-align: right;\">\n",
       "      <th></th>\n",
       "      <th>Brand</th>\n",
       "      <th>Model</th>\n",
       "      <th>Operating System</th>\n",
       "      <th>Connectivity</th>\n",
       "      <th>Display Type</th>\n",
       "      <th>Display Size</th>\n",
       "      <th>Resolution</th>\n",
       "      <th>Water Resistance</th>\n",
       "      <th>Battery Life</th>\n",
       "      <th>Heart Rate Monitor</th>\n",
       "      <th>GPS</th>\n",
       "      <th>NFC</th>\n",
       "      <th>Price</th>\n",
       "    </tr>\n",
       "  </thead>\n",
       "  <tbody>\n",
       "    <tr>\n",
       "      <th>0</th>\n",
       "      <td>Apple</td>\n",
       "      <td>Watch Series 7</td>\n",
       "      <td>watchOS</td>\n",
       "      <td>Bluetooth, Wi-Fi, Cellular</td>\n",
       "      <td>Retina</td>\n",
       "      <td>1.9</td>\n",
       "      <td>396 x 484</td>\n",
       "      <td>50</td>\n",
       "      <td>18</td>\n",
       "      <td>Yes</td>\n",
       "      <td>Yes</td>\n",
       "      <td>Yes</td>\n",
       "      <td>399</td>\n",
       "    </tr>\n",
       "    <tr>\n",
       "      <th>1</th>\n",
       "      <td>Samsung</td>\n",
       "      <td>Galaxy Watch 4</td>\n",
       "      <td>Wear OS</td>\n",
       "      <td>Bluetooth, Wi-Fi, Cellular</td>\n",
       "      <td>AMOLED</td>\n",
       "      <td>1.4</td>\n",
       "      <td>450 x 450</td>\n",
       "      <td>50</td>\n",
       "      <td>40</td>\n",
       "      <td>Yes</td>\n",
       "      <td>Yes</td>\n",
       "      <td>Yes</td>\n",
       "      <td>249</td>\n",
       "    </tr>\n",
       "    <tr>\n",
       "      <th>2</th>\n",
       "      <td>Garmin</td>\n",
       "      <td>Venu 2</td>\n",
       "      <td>Garmin OS</td>\n",
       "      <td>Bluetooth, Wi-Fi</td>\n",
       "      <td>AMOLED</td>\n",
       "      <td>1.3</td>\n",
       "      <td>416 x 416</td>\n",
       "      <td>50</td>\n",
       "      <td>11</td>\n",
       "      <td>Yes</td>\n",
       "      <td>Yes</td>\n",
       "      <td>No</td>\n",
       "      <td>399</td>\n",
       "    </tr>\n",
       "    <tr>\n",
       "      <th>3</th>\n",
       "      <td>Fitbit</td>\n",
       "      <td>Versa 3</td>\n",
       "      <td>Fitbit OS</td>\n",
       "      <td>Bluetooth, Wi-Fi</td>\n",
       "      <td>AMOLED</td>\n",
       "      <td>1.6</td>\n",
       "      <td>336 x 336</td>\n",
       "      <td>50</td>\n",
       "      <td>6</td>\n",
       "      <td>Yes</td>\n",
       "      <td>Yes</td>\n",
       "      <td>Yes</td>\n",
       "      <td>229</td>\n",
       "    </tr>\n",
       "    <tr>\n",
       "      <th>4</th>\n",
       "      <td>Fossil</td>\n",
       "      <td>Gen 6</td>\n",
       "      <td>Wear OS</td>\n",
       "      <td>Bluetooth, Wi-Fi</td>\n",
       "      <td>AMOLED</td>\n",
       "      <td>1.3</td>\n",
       "      <td>416 x 416</td>\n",
       "      <td>30</td>\n",
       "      <td>24</td>\n",
       "      <td>Yes</td>\n",
       "      <td>Yes</td>\n",
       "      <td>Yes</td>\n",
       "      <td>299</td>\n",
       "    </tr>\n",
       "  </tbody>\n",
       "</table>\n",
       "</div>"
      ],
      "text/plain": [
       "     Brand           Model Operating System                Connectivity  \\\n",
       "0    Apple  Watch Series 7          watchOS  Bluetooth, Wi-Fi, Cellular   \n",
       "1  Samsung  Galaxy Watch 4          Wear OS  Bluetooth, Wi-Fi, Cellular   \n",
       "2   Garmin          Venu 2        Garmin OS            Bluetooth, Wi-Fi   \n",
       "3   Fitbit         Versa 3        Fitbit OS            Bluetooth, Wi-Fi   \n",
       "4   Fossil           Gen 6          Wear OS            Bluetooth, Wi-Fi   \n",
       "\n",
       "  Display Type  Display Size Resolution Water Resistance Battery Life  \\\n",
       "0       Retina           1.9  396 x 484               50           18   \n",
       "1       AMOLED           1.4  450 x 450               50           40   \n",
       "2       AMOLED           1.3  416 x 416               50           11   \n",
       "3       AMOLED           1.6  336 x 336               50            6   \n",
       "4       AMOLED           1.3  416 x 416               30           24   \n",
       "\n",
       "  Heart Rate Monitor  GPS  NFC Price  \n",
       "0                Yes  Yes  Yes   399  \n",
       "1                Yes  Yes  Yes   249  \n",
       "2                Yes  Yes   No   399  \n",
       "3                Yes  Yes  Yes   229  \n",
       "4                Yes  Yes  Yes   299  "
      ]
     },
     "execution_count": 685,
     "metadata": {},
     "output_type": "execute_result"
    }
   ],
   "source": [
    "df.head()"
   ]
  },
  {
   "cell_type": "code",
   "execution_count": 686,
   "metadata": {},
   "outputs": [
    {
     "data": {
      "text/plain": [
       "array(['Yes'], dtype=object)"
      ]
     },
     "execution_count": 686,
     "metadata": {},
     "output_type": "execute_result"
    }
   ],
   "source": [
    "\n",
    "df['Heart Rate Monitor'].unique()\n"
   ]
  },
  {
   "cell_type": "code",
   "execution_count": 687,
   "metadata": {},
   "outputs": [],
   "source": [
    "df.drop('Heart Rate Monitor', axis=1, inplace= True)"
   ]
  },
  {
   "cell_type": "code",
   "execution_count": 688,
   "metadata": {},
   "outputs": [
    {
     "data": {
      "text/html": [
       "<div>\n",
       "<style scoped>\n",
       "    .dataframe tbody tr th:only-of-type {\n",
       "        vertical-align: middle;\n",
       "    }\n",
       "\n",
       "    .dataframe tbody tr th {\n",
       "        vertical-align: top;\n",
       "    }\n",
       "\n",
       "    .dataframe thead th {\n",
       "        text-align: right;\n",
       "    }\n",
       "</style>\n",
       "<table border=\"1\" class=\"dataframe\">\n",
       "  <thead>\n",
       "    <tr style=\"text-align: right;\">\n",
       "      <th></th>\n",
       "      <th>Brand</th>\n",
       "      <th>Model</th>\n",
       "      <th>Operating System</th>\n",
       "      <th>Connectivity</th>\n",
       "      <th>Display Type</th>\n",
       "      <th>Display Size</th>\n",
       "      <th>Resolution</th>\n",
       "      <th>Water Resistance</th>\n",
       "      <th>Battery Life</th>\n",
       "      <th>GPS</th>\n",
       "      <th>NFC</th>\n",
       "      <th>Price</th>\n",
       "    </tr>\n",
       "  </thead>\n",
       "  <tbody>\n",
       "    <tr>\n",
       "      <th>0</th>\n",
       "      <td>Apple</td>\n",
       "      <td>Watch Series 7</td>\n",
       "      <td>watchOS</td>\n",
       "      <td>Bluetooth, Wi-Fi, Cellular</td>\n",
       "      <td>Retina</td>\n",
       "      <td>1.9</td>\n",
       "      <td>396 x 484</td>\n",
       "      <td>50</td>\n",
       "      <td>18</td>\n",
       "      <td>Yes</td>\n",
       "      <td>Yes</td>\n",
       "      <td>399</td>\n",
       "    </tr>\n",
       "    <tr>\n",
       "      <th>1</th>\n",
       "      <td>Samsung</td>\n",
       "      <td>Galaxy Watch 4</td>\n",
       "      <td>Wear OS</td>\n",
       "      <td>Bluetooth, Wi-Fi, Cellular</td>\n",
       "      <td>AMOLED</td>\n",
       "      <td>1.4</td>\n",
       "      <td>450 x 450</td>\n",
       "      <td>50</td>\n",
       "      <td>40</td>\n",
       "      <td>Yes</td>\n",
       "      <td>Yes</td>\n",
       "      <td>249</td>\n",
       "    </tr>\n",
       "    <tr>\n",
       "      <th>2</th>\n",
       "      <td>Garmin</td>\n",
       "      <td>Venu 2</td>\n",
       "      <td>Garmin OS</td>\n",
       "      <td>Bluetooth, Wi-Fi</td>\n",
       "      <td>AMOLED</td>\n",
       "      <td>1.3</td>\n",
       "      <td>416 x 416</td>\n",
       "      <td>50</td>\n",
       "      <td>11</td>\n",
       "      <td>Yes</td>\n",
       "      <td>No</td>\n",
       "      <td>399</td>\n",
       "    </tr>\n",
       "    <tr>\n",
       "      <th>3</th>\n",
       "      <td>Fitbit</td>\n",
       "      <td>Versa 3</td>\n",
       "      <td>Fitbit OS</td>\n",
       "      <td>Bluetooth, Wi-Fi</td>\n",
       "      <td>AMOLED</td>\n",
       "      <td>1.6</td>\n",
       "      <td>336 x 336</td>\n",
       "      <td>50</td>\n",
       "      <td>6</td>\n",
       "      <td>Yes</td>\n",
       "      <td>Yes</td>\n",
       "      <td>229</td>\n",
       "    </tr>\n",
       "    <tr>\n",
       "      <th>4</th>\n",
       "      <td>Fossil</td>\n",
       "      <td>Gen 6</td>\n",
       "      <td>Wear OS</td>\n",
       "      <td>Bluetooth, Wi-Fi</td>\n",
       "      <td>AMOLED</td>\n",
       "      <td>1.3</td>\n",
       "      <td>416 x 416</td>\n",
       "      <td>30</td>\n",
       "      <td>24</td>\n",
       "      <td>Yes</td>\n",
       "      <td>Yes</td>\n",
       "      <td>299</td>\n",
       "    </tr>\n",
       "  </tbody>\n",
       "</table>\n",
       "</div>"
      ],
      "text/plain": [
       "     Brand           Model Operating System                Connectivity  \\\n",
       "0    Apple  Watch Series 7          watchOS  Bluetooth, Wi-Fi, Cellular   \n",
       "1  Samsung  Galaxy Watch 4          Wear OS  Bluetooth, Wi-Fi, Cellular   \n",
       "2   Garmin          Venu 2        Garmin OS            Bluetooth, Wi-Fi   \n",
       "3   Fitbit         Versa 3        Fitbit OS            Bluetooth, Wi-Fi   \n",
       "4   Fossil           Gen 6          Wear OS            Bluetooth, Wi-Fi   \n",
       "\n",
       "  Display Type  Display Size Resolution Water Resistance Battery Life  GPS  \\\n",
       "0       Retina           1.9  396 x 484               50           18  Yes   \n",
       "1       AMOLED           1.4  450 x 450               50           40  Yes   \n",
       "2       AMOLED           1.3  416 x 416               50           11  Yes   \n",
       "3       AMOLED           1.6  336 x 336               50            6  Yes   \n",
       "4       AMOLED           1.3  416 x 416               30           24  Yes   \n",
       "\n",
       "   NFC Price  \n",
       "0  Yes   399  \n",
       "1  Yes   249  \n",
       "2   No   399  \n",
       "3  Yes   229  \n",
       "4  Yes   299  "
      ]
     },
     "execution_count": 688,
     "metadata": {},
     "output_type": "execute_result"
    }
   ],
   "source": [
    "df.head()"
   ]
  },
  {
   "cell_type": "code",
   "execution_count": 689,
   "metadata": {},
   "outputs": [],
   "source": [
    "df['Water Resistance'] = df['Water Resistance'].astype(float)"
   ]
  },
  {
   "cell_type": "code",
   "execution_count": 690,
   "metadata": {},
   "outputs": [],
   "source": [
    "df['Battery Life'] = df['Battery Life'].astype(float)"
   ]
  },
  {
   "cell_type": "code",
   "execution_count": 691,
   "metadata": {},
   "outputs": [],
   "source": [
    "df['Price'] = df['Price'].astype(float)"
   ]
  },
  {
   "cell_type": "code",
   "execution_count": 692,
   "metadata": {},
   "outputs": [
    {
     "data": {
      "text/html": [
       "<div>\n",
       "<style scoped>\n",
       "    .dataframe tbody tr th:only-of-type {\n",
       "        vertical-align: middle;\n",
       "    }\n",
       "\n",
       "    .dataframe tbody tr th {\n",
       "        vertical-align: top;\n",
       "    }\n",
       "\n",
       "    .dataframe thead th {\n",
       "        text-align: right;\n",
       "    }\n",
       "</style>\n",
       "<table border=\"1\" class=\"dataframe\">\n",
       "  <thead>\n",
       "    <tr style=\"text-align: right;\">\n",
       "      <th></th>\n",
       "      <th>Brand</th>\n",
       "      <th>Model</th>\n",
       "      <th>Operating System</th>\n",
       "      <th>Connectivity</th>\n",
       "      <th>Display Type</th>\n",
       "      <th>Display Size</th>\n",
       "      <th>Resolution</th>\n",
       "      <th>Water Resistance</th>\n",
       "      <th>Battery Life</th>\n",
       "      <th>GPS</th>\n",
       "      <th>NFC</th>\n",
       "      <th>Price</th>\n",
       "    </tr>\n",
       "  </thead>\n",
       "  <tbody>\n",
       "    <tr>\n",
       "      <th>0</th>\n",
       "      <td>Apple</td>\n",
       "      <td>Watch Series 7</td>\n",
       "      <td>watchOS</td>\n",
       "      <td>Bluetooth, Wi-Fi, Cellular</td>\n",
       "      <td>Retina</td>\n",
       "      <td>1.9</td>\n",
       "      <td>396 x 484</td>\n",
       "      <td>50.0</td>\n",
       "      <td>18.0</td>\n",
       "      <td>Yes</td>\n",
       "      <td>Yes</td>\n",
       "      <td>399.0</td>\n",
       "    </tr>\n",
       "    <tr>\n",
       "      <th>1</th>\n",
       "      <td>Samsung</td>\n",
       "      <td>Galaxy Watch 4</td>\n",
       "      <td>Wear OS</td>\n",
       "      <td>Bluetooth, Wi-Fi, Cellular</td>\n",
       "      <td>AMOLED</td>\n",
       "      <td>1.4</td>\n",
       "      <td>450 x 450</td>\n",
       "      <td>50.0</td>\n",
       "      <td>40.0</td>\n",
       "      <td>Yes</td>\n",
       "      <td>Yes</td>\n",
       "      <td>249.0</td>\n",
       "    </tr>\n",
       "    <tr>\n",
       "      <th>2</th>\n",
       "      <td>Garmin</td>\n",
       "      <td>Venu 2</td>\n",
       "      <td>Garmin OS</td>\n",
       "      <td>Bluetooth, Wi-Fi</td>\n",
       "      <td>AMOLED</td>\n",
       "      <td>1.3</td>\n",
       "      <td>416 x 416</td>\n",
       "      <td>50.0</td>\n",
       "      <td>11.0</td>\n",
       "      <td>Yes</td>\n",
       "      <td>No</td>\n",
       "      <td>399.0</td>\n",
       "    </tr>\n",
       "    <tr>\n",
       "      <th>3</th>\n",
       "      <td>Fitbit</td>\n",
       "      <td>Versa 3</td>\n",
       "      <td>Fitbit OS</td>\n",
       "      <td>Bluetooth, Wi-Fi</td>\n",
       "      <td>AMOLED</td>\n",
       "      <td>1.6</td>\n",
       "      <td>336 x 336</td>\n",
       "      <td>50.0</td>\n",
       "      <td>6.0</td>\n",
       "      <td>Yes</td>\n",
       "      <td>Yes</td>\n",
       "      <td>229.0</td>\n",
       "    </tr>\n",
       "    <tr>\n",
       "      <th>4</th>\n",
       "      <td>Fossil</td>\n",
       "      <td>Gen 6</td>\n",
       "      <td>Wear OS</td>\n",
       "      <td>Bluetooth, Wi-Fi</td>\n",
       "      <td>AMOLED</td>\n",
       "      <td>1.3</td>\n",
       "      <td>416 x 416</td>\n",
       "      <td>30.0</td>\n",
       "      <td>24.0</td>\n",
       "      <td>Yes</td>\n",
       "      <td>Yes</td>\n",
       "      <td>299.0</td>\n",
       "    </tr>\n",
       "  </tbody>\n",
       "</table>\n",
       "</div>"
      ],
      "text/plain": [
       "     Brand           Model Operating System                Connectivity  \\\n",
       "0    Apple  Watch Series 7          watchOS  Bluetooth, Wi-Fi, Cellular   \n",
       "1  Samsung  Galaxy Watch 4          Wear OS  Bluetooth, Wi-Fi, Cellular   \n",
       "2   Garmin          Venu 2        Garmin OS            Bluetooth, Wi-Fi   \n",
       "3   Fitbit         Versa 3        Fitbit OS            Bluetooth, Wi-Fi   \n",
       "4   Fossil           Gen 6          Wear OS            Bluetooth, Wi-Fi   \n",
       "\n",
       "  Display Type  Display Size Resolution  Water Resistance  Battery Life  GPS  \\\n",
       "0       Retina           1.9  396 x 484              50.0          18.0  Yes   \n",
       "1       AMOLED           1.4  450 x 450              50.0          40.0  Yes   \n",
       "2       AMOLED           1.3  416 x 416              50.0          11.0  Yes   \n",
       "3       AMOLED           1.6  336 x 336              50.0           6.0  Yes   \n",
       "4       AMOLED           1.3  416 x 416              30.0          24.0  Yes   \n",
       "\n",
       "   NFC  Price  \n",
       "0  Yes  399.0  \n",
       "1  Yes  249.0  \n",
       "2   No  399.0  \n",
       "3  Yes  229.0  \n",
       "4  Yes  299.0  "
      ]
     },
     "execution_count": 692,
     "metadata": {},
     "output_type": "execute_result"
    }
   ],
   "source": [
    "df.head()"
   ]
  },
  {
   "cell_type": "code",
   "execution_count": 693,
   "metadata": {},
   "outputs": [
    {
     "name": "stdout",
     "output_type": "stream",
     "text": [
      "<class 'pandas.core.frame.DataFrame'>\n",
      "RangeIndex: 379 entries, 0 to 378\n",
      "Data columns (total 12 columns):\n",
      " #   Column            Non-Null Count  Dtype  \n",
      "---  ------            --------------  -----  \n",
      " 0   Brand             379 non-null    object \n",
      " 1   Model             379 non-null    object \n",
      " 2   Operating System  379 non-null    object \n",
      " 3   Connectivity      379 non-null    object \n",
      " 4   Display Type      379 non-null    object \n",
      " 5   Display Size      379 non-null    float64\n",
      " 6   Resolution        379 non-null    object \n",
      " 7   Water Resistance  379 non-null    float64\n",
      " 8   Battery Life      379 non-null    float64\n",
      " 9   GPS               379 non-null    object \n",
      " 10  NFC               379 non-null    object \n",
      " 11  Price             379 non-null    float64\n",
      "dtypes: float64(4), object(8)\n",
      "memory usage: 35.7+ KB\n"
     ]
    }
   ],
   "source": [
    "df.info()"
   ]
  },
  {
   "cell_type": "code",
   "execution_count": 694,
   "metadata": {},
   "outputs": [
    {
     "data": {
      "text/html": [
       "<div>\n",
       "<style scoped>\n",
       "    .dataframe tbody tr th:only-of-type {\n",
       "        vertical-align: middle;\n",
       "    }\n",
       "\n",
       "    .dataframe tbody tr th {\n",
       "        vertical-align: top;\n",
       "    }\n",
       "\n",
       "    .dataframe thead th {\n",
       "        text-align: right;\n",
       "    }\n",
       "</style>\n",
       "<table border=\"1\" class=\"dataframe\">\n",
       "  <thead>\n",
       "    <tr style=\"text-align: right;\">\n",
       "      <th></th>\n",
       "      <th>Brand</th>\n",
       "      <th>Model</th>\n",
       "      <th>Operating System</th>\n",
       "      <th>Connectivity</th>\n",
       "      <th>Display Type</th>\n",
       "      <th>Display Size</th>\n",
       "      <th>Resolution</th>\n",
       "      <th>Water Resistance</th>\n",
       "      <th>Battery Life</th>\n",
       "      <th>GPS</th>\n",
       "      <th>NFC</th>\n",
       "      <th>Price</th>\n",
       "    </tr>\n",
       "  </thead>\n",
       "  <tbody>\n",
       "    <tr>\n",
       "      <th>0</th>\n",
       "      <td>Apple</td>\n",
       "      <td>Watch Series 7</td>\n",
       "      <td>watchOS</td>\n",
       "      <td>Bluetooth, Wi-Fi, Cellular</td>\n",
       "      <td>Retina</td>\n",
       "      <td>1.9</td>\n",
       "      <td>396 x 484</td>\n",
       "      <td>50.0</td>\n",
       "      <td>18.0</td>\n",
       "      <td>Yes</td>\n",
       "      <td>Yes</td>\n",
       "      <td>399.0</td>\n",
       "    </tr>\n",
       "    <tr>\n",
       "      <th>1</th>\n",
       "      <td>Samsung</td>\n",
       "      <td>Galaxy Watch 4</td>\n",
       "      <td>Wear OS</td>\n",
       "      <td>Bluetooth, Wi-Fi, Cellular</td>\n",
       "      <td>AMOLED</td>\n",
       "      <td>1.4</td>\n",
       "      <td>450 x 450</td>\n",
       "      <td>50.0</td>\n",
       "      <td>40.0</td>\n",
       "      <td>Yes</td>\n",
       "      <td>Yes</td>\n",
       "      <td>249.0</td>\n",
       "    </tr>\n",
       "    <tr>\n",
       "      <th>2</th>\n",
       "      <td>Garmin</td>\n",
       "      <td>Venu 2</td>\n",
       "      <td>Garmin OS</td>\n",
       "      <td>Bluetooth, Wi-Fi</td>\n",
       "      <td>AMOLED</td>\n",
       "      <td>1.3</td>\n",
       "      <td>416 x 416</td>\n",
       "      <td>50.0</td>\n",
       "      <td>11.0</td>\n",
       "      <td>Yes</td>\n",
       "      <td>No</td>\n",
       "      <td>399.0</td>\n",
       "    </tr>\n",
       "    <tr>\n",
       "      <th>3</th>\n",
       "      <td>Fitbit</td>\n",
       "      <td>Versa 3</td>\n",
       "      <td>Fitbit OS</td>\n",
       "      <td>Bluetooth, Wi-Fi</td>\n",
       "      <td>AMOLED</td>\n",
       "      <td>1.6</td>\n",
       "      <td>336 x 336</td>\n",
       "      <td>50.0</td>\n",
       "      <td>6.0</td>\n",
       "      <td>Yes</td>\n",
       "      <td>Yes</td>\n",
       "      <td>229.0</td>\n",
       "    </tr>\n",
       "    <tr>\n",
       "      <th>4</th>\n",
       "      <td>Fossil</td>\n",
       "      <td>Gen 6</td>\n",
       "      <td>Wear OS</td>\n",
       "      <td>Bluetooth, Wi-Fi</td>\n",
       "      <td>AMOLED</td>\n",
       "      <td>1.3</td>\n",
       "      <td>416 x 416</td>\n",
       "      <td>30.0</td>\n",
       "      <td>24.0</td>\n",
       "      <td>Yes</td>\n",
       "      <td>Yes</td>\n",
       "      <td>299.0</td>\n",
       "    </tr>\n",
       "  </tbody>\n",
       "</table>\n",
       "</div>"
      ],
      "text/plain": [
       "     Brand           Model Operating System                Connectivity  \\\n",
       "0    Apple  Watch Series 7          watchOS  Bluetooth, Wi-Fi, Cellular   \n",
       "1  Samsung  Galaxy Watch 4          Wear OS  Bluetooth, Wi-Fi, Cellular   \n",
       "2   Garmin          Venu 2        Garmin OS            Bluetooth, Wi-Fi   \n",
       "3   Fitbit         Versa 3        Fitbit OS            Bluetooth, Wi-Fi   \n",
       "4   Fossil           Gen 6          Wear OS            Bluetooth, Wi-Fi   \n",
       "\n",
       "  Display Type  Display Size Resolution  Water Resistance  Battery Life  GPS  \\\n",
       "0       Retina           1.9  396 x 484              50.0          18.0  Yes   \n",
       "1       AMOLED           1.4  450 x 450              50.0          40.0  Yes   \n",
       "2       AMOLED           1.3  416 x 416              50.0          11.0  Yes   \n",
       "3       AMOLED           1.6  336 x 336              50.0           6.0  Yes   \n",
       "4       AMOLED           1.3  416 x 416              30.0          24.0  Yes   \n",
       "\n",
       "   NFC  Price  \n",
       "0  Yes  399.0  \n",
       "1  Yes  249.0  \n",
       "2   No  399.0  \n",
       "3  Yes  229.0  \n",
       "4  Yes  299.0  "
      ]
     },
     "execution_count": 694,
     "metadata": {},
     "output_type": "execute_result"
    }
   ],
   "source": [
    "data = df\n",
    "data.head()"
   ]
  },
  {
   "attachments": {},
   "cell_type": "markdown",
   "metadata": {},
   "source": [
    "# Univariate Analysis"
   ]
  },
  {
   "cell_type": "code",
   "execution_count": 695,
   "metadata": {},
   "outputs": [
    {
     "data": {
      "image/png": "[encoded data removed]",
      "text/plain": [
       "<Figure size 640x480 with 1 Axes>"
      ]
     },
     "metadata": {},
     "output_type": "display_data"
    }
   ],
   "source": [
    "# Get the top 10 brands\n",
    "top_brands = data['Brand'].value_counts().index[:10]\n",
    "counts = data['Brand'].value_counts().values[:10]\n",
    "\n",
    "# Set the style\n",
    "sns.set_style(\"darkgrid\")\n",
    "\n",
    "# Create the bar plot using Seaborn\n",
    "ax = sns.barplot(x=top_brands, y=counts, palette=\"muted\")\n",
    "\n",
    "# Set the x-tick labels to be rotated and aligned properly\n",
    "ax.set_xticklabels(ax.get_xticklabels(), rotation=45, ha='right')\n",
    "\n",
    "# Add value labels on the bars\n",
    "for i, v in enumerate(counts):\n",
    "    ax.text(i, v+5, str(v), color='black', ha='center')\n",
    "\n",
    "# Set the axis labels and title\n",
    "ax.set(xlabel='Brand', ylabel='Count', title='Top 10 Brands')\n",
    "\n",
    "# Display the plot\n",
    "plt.show()"
   ]
  },
  {
   "cell_type": "code",
   "execution_count": 696,
   "metadata": {},
   "outputs": [
    {
     "data": {
      "image/png": "[encoded data removed]",
      "text/plain": [
       "<Figure size 800x600 with 1 Axes>"
      ]
     },
     "metadata": {},
     "output_type": "display_data"
    }
   ],
   "source": [
    "# Set the plot style\n",
    "sns.set_style('whitegrid')\n",
    "\n",
    "# Get the top 10 connectivity types\n",
    "top_connectivity = data['Connectivity'].value_counts().index[:10]\n",
    "connectivity_counts = data['Connectivity'].value_counts().values[:10]\n",
    "\n",
    "# Create the bar plot\n",
    "fig, ax = plt.subplots(figsize=(8, 6))\n",
    "sns.barplot(x=top_connectivity, y=connectivity_counts, palette='magma', ax=ax)\n",
    "\n",
    "# Set the axis labels and title\n",
    "ax.set(xlabel='Connectivity', ylabel='Count', title='Top 10 Connectivity Types')\n",
    "\n",
    "# Add labels to the bars\n",
    "for i, v in enumerate(connectivity_counts):\n",
    "    ax.text(i, v+5, str(v), color='black', ha='center', fontsize=10)\n",
    "\n",
    "# Display the plot\n",
    "plt.show()"
   ]
  },
  {
   "cell_type": "code",
   "execution_count": 697,
   "metadata": {},
   "outputs": [
    {
     "data": {
      "image/png": "[encoded data removed]",
      "text/plain": [
       "<Figure size 1000x600 with 1 Axes>"
      ]
     },
     "metadata": {},
     "output_type": "display_data"
    }
   ],
   "source": [
    "# Set the plot style\n",
    "sns.set_style('whitegrid')\n",
    "\n",
    "# Get the top 10 operating systems\n",
    "top_os = data['Operating System'].value_counts().index[:10]\n",
    "os_counts = data['Operating System'].value_counts().values[:10]\n",
    "\n",
    "# Create the bar plot\n",
    "fig, ax = plt.subplots(figsize=(10, 6))\n",
    "ax = sns.barplot(x=top_os, y=os_counts, palette='magma')\n",
    "\n",
    "# Set the axis labels and title\n",
    "ax.set(xlabel='Operating System', ylabel='Count', title='Top 10 Operating Systems')\n",
    "\n",
    "# Rotate x-axis tick labels\n",
    "plt.xticks(rotation=45, ha='right')\n",
    "\n",
    "# Add labels to the bars\n",
    "for i, v in enumerate(os_counts):\n",
    "    ax.text(i, v+5, str(v), color='black', ha='center')\n",
    "\n",
    "# Display the plot\n",
    "plt.show()"
   ]
  },
  {
   "attachments": {},
   "cell_type": "markdown",
   "metadata": {},
   "source": [
    "# Bi variate analysis"
   ]
  },
  {
   "cell_type": "code",
   "execution_count": 698,
   "metadata": {},
   "outputs": [
    {
     "data": {
      "image/png": "[encoded data removed]",
      "text/plain": [
       "<Figure size 640x480 with 1 Axes>"
      ]
     },
     "metadata": {},
     "output_type": "display_data"
    }
   ],
   "source": [
    "# Filter the top 8 operating systems by frequency count\n",
    "top_operating_systems = data['Operating System'].value_counts().head(8).index.tolist()\n",
    "data_top_operating_systems = data[data['Operating System'].isin(top_operating_systems)]\n",
    "\n",
    "# Set the plot style\n",
    "sns.set_style('whitegrid')\n",
    "\n",
    "# Create the line plot\n",
    "sns.lineplot(x='Operating System', y='Battery Life', data=data_top_operating_systems)\n",
    "\n",
    "# Set the axis labels and title\n",
    "plt.xlabel('Operating System')\n",
    "plt.ylabel('Battery Life')\n",
    "plt.title('Battery Life Across Top 8 Operating Systems')\n",
    "\n",
    "# Align x-axis labels\n",
    "plt.xticks(rotation=45, ha='right')\n",
    "\n",
    "# Display the plot\n",
    "plt.show()\n",
    "\n"
   ]
  },
  {
   "cell_type": "code",
   "execution_count": 699,
   "metadata": {},
   "outputs": [
    {
     "data": {
      "image/png": "[encoded data removed]",
      "text/plain": [
       "<Figure size 640x480 with 1 Axes>"
      ]
     },
     "metadata": {},
     "output_type": "display_data"
    }
   ],
   "source": [
    "# Get the top 6 brands by mean price\n",
    "top_brands = data.groupby('Brand')['Price'].mean().nlargest(6).reset_index()['Brand'].tolist()\n",
    "data_top_brands = data[data['Brand'].isin(top_brands)]\n",
    "\n",
    "# Set the plot style\n",
    "sns.set_style('whitegrid')\n",
    "\n",
    "# Create the bar plot\n",
    "sns.barplot(x='Brand', y='Price', data=data_top_brands, palette='magma')\n",
    "\n",
    "# Add a line for the overall mean price\n",
    "mean_price = data['Price'].mean()\n",
    "plt.axhline(mean_price, color='r', linestyle='--', label='Overall Mean')\n",
    "\n",
    "# Set the axis labels and title\n",
    "plt.xlabel('Brand')\n",
    "plt.ylabel('Mean Price')\n",
    "plt.title('Mean Price by Top 6 Brands')\n",
    "\n",
    "# Display the plot\n",
    "plt.legend()\n",
    "plt.show()\n"
   ]
  },
  {
   "attachments": {},
   "cell_type": "markdown",
   "metadata": {},
   "source": [
    "# multivariate analysis"
   ]
  },
  {
   "cell_type": "code",
   "execution_count": 700,
   "metadata": {},
   "outputs": [
    {
     "name": "stderr",
     "output_type": "stream",
     "text": [
      "c:\\Users\\Deathnote\\AppData\\Local\\Programs\\Python\\Python310\\lib\\site-packages\\seaborn\\categorical.py:3540: UserWarning: 12.5% of the points cannot be placed; you may want to decrease the size of the markers or use stripplot.\n",
      "  warnings.warn(msg, UserWarning)\n"
     ]
    },
    {
     "data": {
      "image/png": "[encoded data removed]",
      "text/plain": [
       "<Figure size 640x480 with 1 Axes>"
      ]
     },
     "metadata": {},
     "output_type": "display_data"
    }
   ],
   "source": [
    "sns.set(style=\"whitegrid\")\n",
    "\n",
    "\n",
    "# Identify the top 5 brands by frequency\n",
    "top_5_brands = data['Brand'].value_counts().head(5).index.tolist()\n",
    "\n",
    "# Filter the dataset to include only the top 5 brands\n",
    "df_top_5_brands = data[data['Brand'].isin(top_5_brands)]\n",
    "\n",
    "# Create a swarmplot\n",
    "sns.swarmplot(x=\"Brand\", y=\"Price\", data=df_top_5_brands)\n",
    "\n",
    "# Show the plot\n",
    "plt.show()"
   ]
  },
  {
   "cell_type": "code",
   "execution_count": 701,
   "metadata": {},
   "outputs": [
    {
     "data": {
      "image/png": "[encoded data removed]",
      "text/plain": [
       "<Figure size 1200x600 with 2 Axes>"
      ]
     },
     "metadata": {},
     "output_type": "display_data"
    }
   ],
   "source": [
    "# Calculate total sales for each brand\n",
    "total_sales = data.groupby('Brand')['Price'].sum().reset_index()\n",
    "\n",
    "# Sort the brands by total sales in descending order\n",
    "top_brands = total_sales.sort_values('Price', ascending=False).head(5)\n",
    "\n",
    "# Calculate the percentage of sales for each brand\n",
    "top_brands['Percent'] = top_brands['Price'] / top_brands['Price'].sum() * 100\n",
    "\n",
    "# Create a grid with two subplots\n",
    "fig, axes = plt.subplots(nrows=1, ncols=2, figsize=(12,6))\n",
    "\n",
    "# Plot a bar chart for total sales by brand\n",
    "sns.barplot(x='Brand', y='Price', data=top_brands, palette='Set3', ax=axes[0])\n",
    "axes[0].set_xlabel('Brand')\n",
    "axes[0].set_ylabel('Total Sales ($)')\n",
    "axes[0].set_title('Total Sales by Top 5 Brands')\n",
    "\n",
    "# Plot a pie chart for percentage of sales by brand\n",
    "colors = sns.color_palette('Set3', top_brands.shape[0]).as_hex()\n",
    "axes[1].pie(top_brands['Percent'], labels=top_brands['Brand'], colors=colors, autopct='%1.1f%%', shadow=True)\n",
    "axes[1].set_title('Percentage of Sales by Top 5 Brands')\n",
    "\n",
    "# Adjust spacing between subplots\n",
    "fig.tight_layout()\n",
    "\n",
    "# Show the plot\n",
    "plt.show()\n"
   ]
  },
  {
   "cell_type": "code",
   "execution_count": 702,
   "metadata": {},
   "outputs": [
    {
     "name": "stderr",
     "output_type": "stream",
     "text": [
      "C:\\Users\\Deathnote\\AppData\\Local\\Temp\\ipykernel_34192\\4057750562.py:2: FutureWarning: The default value of numeric_only in DataFrame.corr is deprecated. In a future version, it will default to False. Select only valid columns or specify the value of numeric_only to silence this warning.\n",
      "  corr = data.corr()\n"
     ]
    },
    {
     "data": {
      "text/plain": [
       "<AxesSubplot: >"
      ]
     },
     "execution_count": 702,
     "metadata": {},
     "output_type": "execute_result"
    },
    {
     "data": {
      "image/png": "[encoded data removed]",
      "text/plain": [
       "<Figure size 640x480 with 2 Axes>"
      ]
     },
     "metadata": {},
     "output_type": "display_data"
    }
   ],
   "source": [
    "# Compute the correlation matrix\n",
    "corr = data.corr()\n",
    "\n",
    "# Visualize the correlation matrix using heatmap\n",
    "sns.heatmap(corr, xticklabels=corr.columns, yticklabels=corr.columns, annot=True, cmap=\"YlGnBu\")"
   ]
  },
  {
   "cell_type": "code",
   "execution_count": 703,
   "metadata": {},
   "outputs": [
    {
     "data": {
      "text/plain": [
       "73"
      ]
     },
     "execution_count": 703,
     "metadata": {},
     "output_type": "execute_result"
    }
   ],
   "source": [
    "value = df['Model'].value_counts()\n",
    "filtered_values = value[value < 2]\n",
    "len(filtered_values)"
   ]
  },
  {
   "cell_type": "code",
   "execution_count": 704,
   "metadata": {},
   "outputs": [
    {
     "data": {
      "text/html": [
       "<div>\n",
       "<style scoped>\n",
       "    .dataframe tbody tr th:only-of-type {\n",
       "        vertical-align: middle;\n",
       "    }\n",
       "\n",
       "    .dataframe tbody tr th {\n",
       "        vertical-align: top;\n",
       "    }\n",
       "\n",
       "    .dataframe thead th {\n",
       "        text-align: right;\n",
       "    }\n",
       "</style>\n",
       "<table border=\"1\" class=\"dataframe\">\n",
       "  <thead>\n",
       "    <tr style=\"text-align: right;\">\n",
       "      <th></th>\n",
       "      <th>Brand</th>\n",
       "      <th>Model</th>\n",
       "      <th>Operating System</th>\n",
       "      <th>Connectivity</th>\n",
       "      <th>Display Type</th>\n",
       "      <th>Display Size</th>\n",
       "      <th>Resolution</th>\n",
       "      <th>Water Resistance</th>\n",
       "      <th>Battery Life</th>\n",
       "      <th>GPS</th>\n",
       "      <th>NFC</th>\n",
       "      <th>Price</th>\n",
       "    </tr>\n",
       "  </thead>\n",
       "  <tbody>\n",
       "    <tr>\n",
       "      <th>0</th>\n",
       "      <td>Apple</td>\n",
       "      <td>Watch Series 7</td>\n",
       "      <td>watchOS</td>\n",
       "      <td>Bluetooth, Wi-Fi, Cellular</td>\n",
       "      <td>Retina</td>\n",
       "      <td>1.9</td>\n",
       "      <td>396 x 484</td>\n",
       "      <td>50.0</td>\n",
       "      <td>18.0</td>\n",
       "      <td>Yes</td>\n",
       "      <td>Yes</td>\n",
       "      <td>399.0</td>\n",
       "    </tr>\n",
       "    <tr>\n",
       "      <th>1</th>\n",
       "      <td>Samsung</td>\n",
       "      <td>Galaxy Watch 4</td>\n",
       "      <td>Wear OS</td>\n",
       "      <td>Bluetooth, Wi-Fi, Cellular</td>\n",
       "      <td>AMOLED</td>\n",
       "      <td>1.4</td>\n",
       "      <td>450 x 450</td>\n",
       "      <td>50.0</td>\n",
       "      <td>40.0</td>\n",
       "      <td>Yes</td>\n",
       "      <td>Yes</td>\n",
       "      <td>249.0</td>\n",
       "    </tr>\n",
       "    <tr>\n",
       "      <th>2</th>\n",
       "      <td>Garmin</td>\n",
       "      <td>Venu 2</td>\n",
       "      <td>Garmin OS</td>\n",
       "      <td>Bluetooth, Wi-Fi</td>\n",
       "      <td>AMOLED</td>\n",
       "      <td>1.3</td>\n",
       "      <td>416 x 416</td>\n",
       "      <td>50.0</td>\n",
       "      <td>11.0</td>\n",
       "      <td>Yes</td>\n",
       "      <td>No</td>\n",
       "      <td>399.0</td>\n",
       "    </tr>\n",
       "    <tr>\n",
       "      <th>3</th>\n",
       "      <td>Fitbit</td>\n",
       "      <td>Versa 3</td>\n",
       "      <td>Fitbit OS</td>\n",
       "      <td>Bluetooth, Wi-Fi</td>\n",
       "      <td>AMOLED</td>\n",
       "      <td>1.6</td>\n",
       "      <td>336 x 336</td>\n",
       "      <td>50.0</td>\n",
       "      <td>6.0</td>\n",
       "      <td>Yes</td>\n",
       "      <td>Yes</td>\n",
       "      <td>229.0</td>\n",
       "    </tr>\n",
       "    <tr>\n",
       "      <th>4</th>\n",
       "      <td>Fossil</td>\n",
       "      <td>Gen 6</td>\n",
       "      <td>Wear OS</td>\n",
       "      <td>Bluetooth, Wi-Fi</td>\n",
       "      <td>AMOLED</td>\n",
       "      <td>1.3</td>\n",
       "      <td>416 x 416</td>\n",
       "      <td>30.0</td>\n",
       "      <td>24.0</td>\n",
       "      <td>Yes</td>\n",
       "      <td>Yes</td>\n",
       "      <td>299.0</td>\n",
       "    </tr>\n",
       "    <tr>\n",
       "      <th>...</th>\n",
       "      <td>...</td>\n",
       "      <td>...</td>\n",
       "      <td>...</td>\n",
       "      <td>...</td>\n",
       "      <td>...</td>\n",
       "      <td>...</td>\n",
       "      <td>...</td>\n",
       "      <td>...</td>\n",
       "      <td>...</td>\n",
       "      <td>...</td>\n",
       "      <td>...</td>\n",
       "      <td>...</td>\n",
       "    </tr>\n",
       "    <tr>\n",
       "      <th>374</th>\n",
       "      <td>Withings</td>\n",
       "      <td>ScanWatch</td>\n",
       "      <td>Withings OS</td>\n",
       "      <td>Bluetooth, Wi-Fi</td>\n",
       "      <td>PMOLED</td>\n",
       "      <td>1.4</td>\n",
       "      <td>348 x 442</td>\n",
       "      <td>50.0</td>\n",
       "      <td>30.0</td>\n",
       "      <td>No</td>\n",
       "      <td>Yes</td>\n",
       "      <td>279.0</td>\n",
       "    </tr>\n",
       "    <tr>\n",
       "      <th>375</th>\n",
       "      <td>Zepp</td>\n",
       "      <td>Z</td>\n",
       "      <td>Zepp OS</td>\n",
       "      <td>Bluetooth, Wi-Fi, Cellular</td>\n",
       "      <td>AMOLED</td>\n",
       "      <td>1.4</td>\n",
       "      <td>454 x 454</td>\n",
       "      <td>50.0</td>\n",
       "      <td>15.0</td>\n",
       "      <td>Yes</td>\n",
       "      <td>Yes</td>\n",
       "      <td>349.0</td>\n",
       "    </tr>\n",
       "    <tr>\n",
       "      <th>376</th>\n",
       "      <td>Honor</td>\n",
       "      <td>Watch GS Pro</td>\n",
       "      <td>Lite OS</td>\n",
       "      <td>Bluetooth, Wi-Fi</td>\n",
       "      <td>AMOLED</td>\n",
       "      <td>1.4</td>\n",
       "      <td>454 x 454</td>\n",
       "      <td>50.0</td>\n",
       "      <td>25.0</td>\n",
       "      <td>Yes</td>\n",
       "      <td>Yes</td>\n",
       "      <td>249.0</td>\n",
       "    </tr>\n",
       "    <tr>\n",
       "      <th>377</th>\n",
       "      <td>Oppo</td>\n",
       "      <td>Watch Free</td>\n",
       "      <td>ColorOS</td>\n",
       "      <td>Bluetooth, Wi-Fi</td>\n",
       "      <td>AMOLED</td>\n",
       "      <td>1.6</td>\n",
       "      <td>326 x 326</td>\n",
       "      <td>50.0</td>\n",
       "      <td>14.0</td>\n",
       "      <td>No</td>\n",
       "      <td>Yes</td>\n",
       "      <td>159.0</td>\n",
       "    </tr>\n",
       "    <tr>\n",
       "      <th>378</th>\n",
       "      <td>TicWatch</td>\n",
       "      <td>Pro 3</td>\n",
       "      <td>Wear OS</td>\n",
       "      <td>Bluetooth, Wi-Fi, Cellular</td>\n",
       "      <td>AMOLED</td>\n",
       "      <td>1.4</td>\n",
       "      <td>454 x 454</td>\n",
       "      <td>50.0</td>\n",
       "      <td>72.0</td>\n",
       "      <td>Yes</td>\n",
       "      <td>Yes</td>\n",
       "      <td>299.0</td>\n",
       "    </tr>\n",
       "  </tbody>\n",
       "</table>\n",
       "<p>379 rows × 12 columns</p>\n",
       "</div>"
      ],
      "text/plain": [
       "        Brand           Model Operating System                Connectivity  \\\n",
       "0       Apple  Watch Series 7          watchOS  Bluetooth, Wi-Fi, Cellular   \n",
       "1     Samsung  Galaxy Watch 4          Wear OS  Bluetooth, Wi-Fi, Cellular   \n",
       "2      Garmin          Venu 2        Garmin OS            Bluetooth, Wi-Fi   \n",
       "3      Fitbit         Versa 3        Fitbit OS            Bluetooth, Wi-Fi   \n",
       "4      Fossil           Gen 6          Wear OS            Bluetooth, Wi-Fi   \n",
       "..        ...             ...              ...                         ...   \n",
       "374  Withings       ScanWatch      Withings OS            Bluetooth, Wi-Fi   \n",
       "375      Zepp               Z          Zepp OS  Bluetooth, Wi-Fi, Cellular   \n",
       "376     Honor    Watch GS Pro          Lite OS            Bluetooth, Wi-Fi   \n",
       "377      Oppo      Watch Free          ColorOS            Bluetooth, Wi-Fi   \n",
       "378  TicWatch           Pro 3          Wear OS  Bluetooth, Wi-Fi, Cellular   \n",
       "\n",
       "    Display Type  Display Size Resolution  Water Resistance  Battery Life  \\\n",
       "0         Retina           1.9  396 x 484              50.0          18.0   \n",
       "1         AMOLED           1.4  450 x 450              50.0          40.0   \n",
       "2         AMOLED           1.3  416 x 416              50.0          11.0   \n",
       "3         AMOLED           1.6  336 x 336              50.0           6.0   \n",
       "4         AMOLED           1.3  416 x 416              30.0          24.0   \n",
       "..           ...           ...        ...               ...           ...   \n",
       "374       PMOLED           1.4  348 x 442              50.0          30.0   \n",
       "375       AMOLED           1.4  454 x 454              50.0          15.0   \n",
       "376       AMOLED           1.4  454 x 454              50.0          25.0   \n",
       "377       AMOLED           1.6  326 x 326              50.0          14.0   \n",
       "378       AMOLED           1.4  454 x 454              50.0          72.0   \n",
       "\n",
       "     GPS  NFC  Price  \n",
       "0    Yes  Yes  399.0  \n",
       "1    Yes  Yes  249.0  \n",
       "2    Yes   No  399.0  \n",
       "3    Yes  Yes  229.0  \n",
       "4    Yes  Yes  299.0  \n",
       "..   ...  ...    ...  \n",
       "374   No  Yes  279.0  \n",
       "375  Yes  Yes  349.0  \n",
       "376  Yes  Yes  249.0  \n",
       "377   No  Yes  159.0  \n",
       "378  Yes  Yes  299.0  \n",
       "\n",
       "[379 rows x 12 columns]"
      ]
     },
     "execution_count": 704,
     "metadata": {},
     "output_type": "execute_result"
    }
   ],
   "source": [
    "df_test = df\n",
    "df_test"
   ]
  },
  {
   "cell_type": "code",
   "execution_count": 705,
   "metadata": {},
   "outputs": [],
   "source": [
    "value_counts = df_test['Model'].value_counts()\n",
    "unique_values = value_counts[value_counts < 2].index.tolist()\n",
    "df_test = df_test[~df_test['Model'].isin(unique_values)]"
   ]
  },
  {
   "cell_type": "code",
   "execution_count": 706,
   "metadata": {},
   "outputs": [
    {
     "name": "stdout",
     "output_type": "stream",
     "text": [
      "<class 'pandas.core.frame.DataFrame'>\n",
      "Int64Index: 306 entries, 6 to 378\n",
      "Data columns (total 12 columns):\n",
      " #   Column            Non-Null Count  Dtype  \n",
      "---  ------            --------------  -----  \n",
      " 0   Brand             306 non-null    object \n",
      " 1   Model             306 non-null    object \n",
      " 2   Operating System  306 non-null    object \n",
      " 3   Connectivity      306 non-null    object \n",
      " 4   Display Type      306 non-null    object \n",
      " 5   Display Size      306 non-null    float64\n",
      " 6   Resolution        306 non-null    object \n",
      " 7   Water Resistance  306 non-null    float64\n",
      " 8   Battery Life      306 non-null    float64\n",
      " 9   GPS               306 non-null    object \n",
      " 10  NFC               306 non-null    object \n",
      " 11  Price             306 non-null    float64\n",
      "dtypes: float64(4), object(8)\n",
      "memory usage: 31.1+ KB\n"
     ]
    }
   ],
   "source": [
    "df_test.info()"
   ]
  },
  {
   "cell_type": "code",
   "execution_count": 708,
   "metadata": {},
   "outputs": [],
   "source": [
    "lb = LabelEncoder()"
   ]
  },
  {
   "cell_type": "code",
   "execution_count": 709,
   "metadata": {},
   "outputs": [],
   "source": [
    "categorical_cols = df.select_dtypes(include=['object']).columns.tolist()\n",
    "for col in categorical_cols:\n",
    "    df[col] = lb.fit_transform(df[col])"
   ]
  },
  {
   "cell_type": "code",
   "execution_count": 710,
   "metadata": {},
   "outputs": [
    {
     "data": {
      "text/html": [
       "<div>\n",
       "<style scoped>\n",
       "    .dataframe tbody tr th:only-of-type {\n",
       "        vertical-align: middle;\n",
       "    }\n",
       "\n",
       "    .dataframe tbody tr th {\n",
       "        vertical-align: top;\n",
       "    }\n",
       "\n",
       "    .dataframe thead th {\n",
       "        text-align: right;\n",
       "    }\n",
       "</style>\n",
       "<table border=\"1\" class=\"dataframe\">\n",
       "  <thead>\n",
       "    <tr style=\"text-align: right;\">\n",
       "      <th></th>\n",
       "      <th>Brand</th>\n",
       "      <th>Model</th>\n",
       "      <th>Operating System</th>\n",
       "      <th>Connectivity</th>\n",
       "      <th>Display Type</th>\n",
       "      <th>Display Size</th>\n",
       "      <th>Resolution</th>\n",
       "      <th>Water Resistance</th>\n",
       "      <th>Battery Life</th>\n",
       "      <th>GPS</th>\n",
       "      <th>NFC</th>\n",
       "      <th>Price</th>\n",
       "    </tr>\n",
       "  </thead>\n",
       "  <tbody>\n",
       "    <tr>\n",
       "      <th>0</th>\n",
       "      <td>1</td>\n",
       "      <td>127</td>\n",
       "      <td>34</td>\n",
       "      <td>2</td>\n",
       "      <td>17</td>\n",
       "      <td>1.9</td>\n",
       "      <td>27</td>\n",
       "      <td>50.0</td>\n",
       "      <td>18.0</td>\n",
       "      <td>1</td>\n",
       "      <td>1</td>\n",
       "      <td>399.0</td>\n",
       "    </tr>\n",
       "    <tr>\n",
       "      <th>1</th>\n",
       "      <td>30</td>\n",
       "      <td>36</td>\n",
       "      <td>31</td>\n",
       "      <td>2</td>\n",
       "      <td>0</td>\n",
       "      <td>1.4</td>\n",
       "      <td>31</td>\n",
       "      <td>50.0</td>\n",
       "      <td>40.0</td>\n",
       "      <td>1</td>\n",
       "      <td>1</td>\n",
       "      <td>249.0</td>\n",
       "    </tr>\n",
       "    <tr>\n",
       "      <th>2</th>\n",
       "      <td>8</td>\n",
       "      <td>105</td>\n",
       "      <td>9</td>\n",
       "      <td>1</td>\n",
       "      <td>0</td>\n",
       "      <td>1.3</td>\n",
       "      <td>30</td>\n",
       "      <td>50.0</td>\n",
       "      <td>11.0</td>\n",
       "      <td>1</td>\n",
       "      <td>0</td>\n",
       "      <td>399.0</td>\n",
       "    </tr>\n",
       "    <tr>\n",
       "      <th>3</th>\n",
       "      <td>6</td>\n",
       "      <td>109</td>\n",
       "      <td>7</td>\n",
       "      <td>1</td>\n",
       "      <td>0</td>\n",
       "      <td>1.6</td>\n",
       "      <td>19</td>\n",
       "      <td>50.0</td>\n",
       "      <td>6.0</td>\n",
       "      <td>1</td>\n",
       "      <td>1</td>\n",
       "      <td>229.0</td>\n",
       "    </tr>\n",
       "    <tr>\n",
       "      <th>4</th>\n",
       "      <td>7</td>\n",
       "      <td>43</td>\n",
       "      <td>31</td>\n",
       "      <td>1</td>\n",
       "      <td>0</td>\n",
       "      <td>1.3</td>\n",
       "      <td>30</td>\n",
       "      <td>30.0</td>\n",
       "      <td>24.0</td>\n",
       "      <td>1</td>\n",
       "      <td>1</td>\n",
       "      <td>299.0</td>\n",
       "    </tr>\n",
       "  </tbody>\n",
       "</table>\n",
       "</div>"
      ],
      "text/plain": [
       "   Brand  Model  Operating System  Connectivity  Display Type  Display Size  \\\n",
       "0      1    127                34             2            17           1.9   \n",
       "1     30     36                31             2             0           1.4   \n",
       "2      8    105                 9             1             0           1.3   \n",
       "3      6    109                 7             1             0           1.6   \n",
       "4      7     43                31             1             0           1.3   \n",
       "\n",
       "   Resolution  Water Resistance  Battery Life  GPS  NFC  Price  \n",
       "0          27              50.0          18.0    1    1  399.0  \n",
       "1          31              50.0          40.0    1    1  249.0  \n",
       "2          30              50.0          11.0    1    0  399.0  \n",
       "3          19              50.0           6.0    1    1  229.0  \n",
       "4          30              30.0          24.0    1    1  299.0  "
      ]
     },
     "execution_count": 710,
     "metadata": {},
     "output_type": "execute_result"
    }
   ],
   "source": [
    "df.head()"
   ]
  },
  {
   "cell_type": "code",
   "execution_count": 711,
   "metadata": {},
   "outputs": [
    {
     "name": "stderr",
     "output_type": "stream",
     "text": [
      "C:\\Users\\Deathnote\\AppData\\Local\\Temp\\ipykernel_34192\\1632830793.py:3: SettingWithCopyWarning: \n",
      "A value is trying to be set on a copy of a slice from a DataFrame.\n",
      "Try using .loc[row_indexer,col_indexer] = value instead\n",
      "\n",
      "See the caveats in the documentation: https://pandas.pydata.org/pandas-docs/stable/user_guide/indexing.html#returning-a-view-versus-a-copy\n",
      "  df_test[col] = lb.fit_transform(df_test[col])\n",
      "C:\\Users\\Deathnote\\AppData\\Local\\Temp\\ipykernel_34192\\1632830793.py:3: SettingWithCopyWarning: \n",
      "A value is trying to be set on a copy of a slice from a DataFrame.\n",
      "Try using .loc[row_indexer,col_indexer] = value instead\n",
      "\n",
      "See the caveats in the documentation: https://pandas.pydata.org/pandas-docs/stable/user_guide/indexing.html#returning-a-view-versus-a-copy\n",
      "  df_test[col] = lb.fit_transform(df_test[col])\n",
      "C:\\Users\\Deathnote\\AppData\\Local\\Temp\\ipykernel_34192\\1632830793.py:3: SettingWithCopyWarning: \n",
      "A value is trying to be set on a copy of a slice from a DataFrame.\n",
      "Try using .loc[row_indexer,col_indexer] = value instead\n",
      "\n",
      "See the caveats in the documentation: https://pandas.pydata.org/pandas-docs/stable/user_guide/indexing.html#returning-a-view-versus-a-copy\n",
      "  df_test[col] = lb.fit_transform(df_test[col])\n",
      "C:\\Users\\Deathnote\\AppData\\Local\\Temp\\ipykernel_34192\\1632830793.py:3: SettingWithCopyWarning: \n",
      "A value is trying to be set on a copy of a slice from a DataFrame.\n",
      "Try using .loc[row_indexer,col_indexer] = value instead\n",
      "\n",
      "See the caveats in the documentation: https://pandas.pydata.org/pandas-docs/stable/user_guide/indexing.html#returning-a-view-versus-a-copy\n",
      "  df_test[col] = lb.fit_transform(df_test[col])\n",
      "C:\\Users\\Deathnote\\AppData\\Local\\Temp\\ipykernel_34192\\1632830793.py:3: SettingWithCopyWarning: \n",
      "A value is trying to be set on a copy of a slice from a DataFrame.\n",
      "Try using .loc[row_indexer,col_indexer] = value instead\n",
      "\n",
      "See the caveats in the documentation: https://pandas.pydata.org/pandas-docs/stable/user_guide/indexing.html#returning-a-view-versus-a-copy\n",
      "  df_test[col] = lb.fit_transform(df_test[col])\n",
      "C:\\Users\\Deathnote\\AppData\\Local\\Temp\\ipykernel_34192\\1632830793.py:3: SettingWithCopyWarning: \n",
      "A value is trying to be set on a copy of a slice from a DataFrame.\n",
      "Try using .loc[row_indexer,col_indexer] = value instead\n",
      "\n",
      "See the caveats in the documentation: https://pandas.pydata.org/pandas-docs/stable/user_guide/indexing.html#returning-a-view-versus-a-copy\n",
      "  df_test[col] = lb.fit_transform(df_test[col])\n",
      "C:\\Users\\Deathnote\\AppData\\Local\\Temp\\ipykernel_34192\\1632830793.py:3: SettingWithCopyWarning: \n",
      "A value is trying to be set on a copy of a slice from a DataFrame.\n",
      "Try using .loc[row_indexer,col_indexer] = value instead\n",
      "\n",
      "See the caveats in the documentation: https://pandas.pydata.org/pandas-docs/stable/user_guide/indexing.html#returning-a-view-versus-a-copy\n",
      "  df_test[col] = lb.fit_transform(df_test[col])\n",
      "C:\\Users\\Deathnote\\AppData\\Local\\Temp\\ipykernel_34192\\1632830793.py:3: SettingWithCopyWarning: \n",
      "A value is trying to be set on a copy of a slice from a DataFrame.\n",
      "Try using .loc[row_indexer,col_indexer] = value instead\n",
      "\n",
      "See the caveats in the documentation: https://pandas.pydata.org/pandas-docs/stable/user_guide/indexing.html#returning-a-view-versus-a-copy\n",
      "  df_test[col] = lb.fit_transform(df_test[col])\n"
     ]
    },
    {
     "data": {
      "text/html": [
       "<div>\n",
       "<style scoped>\n",
       "    .dataframe tbody tr th:only-of-type {\n",
       "        vertical-align: middle;\n",
       "    }\n",
       "\n",
       "    .dataframe tbody tr th {\n",
       "        vertical-align: top;\n",
       "    }\n",
       "\n",
       "    .dataframe thead th {\n",
       "        text-align: right;\n",
       "    }\n",
       "</style>\n",
       "<table border=\"1\" class=\"dataframe\">\n",
       "  <thead>\n",
       "    <tr style=\"text-align: right;\">\n",
       "      <th></th>\n",
       "      <th>index</th>\n",
       "      <th>Brand</th>\n",
       "      <th>Model</th>\n",
       "      <th>Operating System</th>\n",
       "      <th>Connectivity</th>\n",
       "      <th>Display Type</th>\n",
       "      <th>Display Size</th>\n",
       "      <th>Resolution</th>\n",
       "      <th>Water Resistance</th>\n",
       "      <th>Battery Life</th>\n",
       "      <th>GPS</th>\n",
       "      <th>NFC</th>\n",
       "      <th>Price</th>\n",
       "    </tr>\n",
       "  </thead>\n",
       "  <tbody>\n",
       "    <tr>\n",
       "      <th>0</th>\n",
       "      <td>6</td>\n",
       "      <td>28</td>\n",
       "      <td>6</td>\n",
       "      <td>26</td>\n",
       "      <td>2</td>\n",
       "      <td>7</td>\n",
       "      <td>1.3</td>\n",
       "      <td>20</td>\n",
       "      <td>50.0</td>\n",
       "      <td>2.0</td>\n",
       "      <td>1</td>\n",
       "      <td>1</td>\n",
       "      <td>199.0</td>\n",
       "    </tr>\n",
       "    <tr>\n",
       "      <th>1</th>\n",
       "      <td>7</td>\n",
       "      <td>20</td>\n",
       "      <td>51</td>\n",
       "      <td>3</td>\n",
       "      <td>1</td>\n",
       "      <td>0</td>\n",
       "      <td>1.8</td>\n",
       "      <td>22</td>\n",
       "      <td>50.0</td>\n",
       "      <td>4.0</td>\n",
       "      <td>1</td>\n",
       "      <td>1</td>\n",
       "      <td>199.0</td>\n",
       "    </tr>\n",
       "    <tr>\n",
       "      <th>2</th>\n",
       "      <td>9</td>\n",
       "      <td>24</td>\n",
       "      <td>20</td>\n",
       "      <td>26</td>\n",
       "      <td>0</td>\n",
       "      <td>0</td>\n",
       "      <td>1.4</td>\n",
       "      <td>28</td>\n",
       "      <td>30.0</td>\n",
       "      <td>14.0</td>\n",
       "      <td>0</td>\n",
       "      <td>0</td>\n",
       "      <td>195.0</td>\n",
       "    </tr>\n",
       "    <tr>\n",
       "      <th>3</th>\n",
       "      <td>10</td>\n",
       "      <td>31</td>\n",
       "      <td>34</td>\n",
       "      <td>27</td>\n",
       "      <td>0</td>\n",
       "      <td>0</td>\n",
       "      <td>1.6</td>\n",
       "      <td>8</td>\n",
       "      <td>50.0</td>\n",
       "      <td>30.0</td>\n",
       "      <td>1</td>\n",
       "      <td>1</td>\n",
       "      <td>279.0</td>\n",
       "    </tr>\n",
       "    <tr>\n",
       "      <th>4</th>\n",
       "      <td>11</td>\n",
       "      <td>30</td>\n",
       "      <td>23</td>\n",
       "      <td>26</td>\n",
       "      <td>0</td>\n",
       "      <td>0</td>\n",
       "      <td>1.2</td>\n",
       "      <td>23</td>\n",
       "      <td>30.0</td>\n",
       "      <td>3.0</td>\n",
       "      <td>0</td>\n",
       "      <td>0</td>\n",
       "      <td>179.0</td>\n",
       "    </tr>\n",
       "  </tbody>\n",
       "</table>\n",
       "</div>"
      ],
      "text/plain": [
       "   index  Brand  Model  Operating System  Connectivity  Display Type  \\\n",
       "0      6     28      6                26             2             7   \n",
       "1      7     20     51                 3             1             0   \n",
       "2      9     24     20                26             0             0   \n",
       "3     10     31     34                27             0             0   \n",
       "4     11     30     23                26             0             0   \n",
       "\n",
       "   Display Size  Resolution  Water Resistance  Battery Life  GPS  NFC  Price  \n",
       "0           1.3          20              50.0           2.0    1    1  199.0  \n",
       "1           1.8          22              50.0           4.0    1    1  199.0  \n",
       "2           1.4          28              30.0          14.0    0    0  195.0  \n",
       "3           1.6           8              50.0          30.0    1    1  279.0  \n",
       "4           1.2          23              30.0           3.0    0    0  179.0  "
      ]
     },
     "execution_count": 711,
     "metadata": {},
     "output_type": "execute_result"
    }
   ],
   "source": [
    "categorical_cols = df_test.select_dtypes(include=['object']).columns.tolist()\n",
    "for col in categorical_cols:\n",
    "    df_test[col] = lb.fit_transform(df_test[col])\n",
    "df_test = df_test.reset_index()\n",
    "df_test.head()"
   ]
  },
  {
   "attachments": {},
   "cell_type": "markdown",
   "metadata": {},
   "source": [
    "#  Buiding the model for Prediction"
   ]
  },
  {
   "cell_type": "code",
   "execution_count": 712,
   "metadata": {},
   "outputs": [
    {
     "data": {
      "text/html": [
       "<div>\n",
       "<style scoped>\n",
       "    .dataframe tbody tr th:only-of-type {\n",
       "        vertical-align: middle;\n",
       "    }\n",
       "\n",
       "    .dataframe tbody tr th {\n",
       "        vertical-align: top;\n",
       "    }\n",
       "\n",
       "    .dataframe thead th {\n",
       "        text-align: right;\n",
       "    }\n",
       "</style>\n",
       "<table border=\"1\" class=\"dataframe\">\n",
       "  <thead>\n",
       "    <tr style=\"text-align: right;\">\n",
       "      <th></th>\n",
       "      <th>Brand</th>\n",
       "      <th>Model</th>\n",
       "      <th>Operating System</th>\n",
       "      <th>Connectivity</th>\n",
       "      <th>Display Type</th>\n",
       "      <th>Display Size</th>\n",
       "      <th>Resolution</th>\n",
       "      <th>Water Resistance</th>\n",
       "      <th>Battery Life</th>\n",
       "      <th>GPS</th>\n",
       "      <th>NFC</th>\n",
       "    </tr>\n",
       "  </thead>\n",
       "  <tbody>\n",
       "    <tr>\n",
       "      <th>0</th>\n",
       "      <td>1</td>\n",
       "      <td>127</td>\n",
       "      <td>34</td>\n",
       "      <td>2</td>\n",
       "      <td>17</td>\n",
       "      <td>1.9</td>\n",
       "      <td>27</td>\n",
       "      <td>50.0</td>\n",
       "      <td>18.0</td>\n",
       "      <td>1</td>\n",
       "      <td>1</td>\n",
       "    </tr>\n",
       "    <tr>\n",
       "      <th>1</th>\n",
       "      <td>30</td>\n",
       "      <td>36</td>\n",
       "      <td>31</td>\n",
       "      <td>2</td>\n",
       "      <td>0</td>\n",
       "      <td>1.4</td>\n",
       "      <td>31</td>\n",
       "      <td>50.0</td>\n",
       "      <td>40.0</td>\n",
       "      <td>1</td>\n",
       "      <td>1</td>\n",
       "    </tr>\n",
       "    <tr>\n",
       "      <th>2</th>\n",
       "      <td>8</td>\n",
       "      <td>105</td>\n",
       "      <td>9</td>\n",
       "      <td>1</td>\n",
       "      <td>0</td>\n",
       "      <td>1.3</td>\n",
       "      <td>30</td>\n",
       "      <td>50.0</td>\n",
       "      <td>11.0</td>\n",
       "      <td>1</td>\n",
       "      <td>0</td>\n",
       "    </tr>\n",
       "    <tr>\n",
       "      <th>3</th>\n",
       "      <td>6</td>\n",
       "      <td>109</td>\n",
       "      <td>7</td>\n",
       "      <td>1</td>\n",
       "      <td>0</td>\n",
       "      <td>1.6</td>\n",
       "      <td>19</td>\n",
       "      <td>50.0</td>\n",
       "      <td>6.0</td>\n",
       "      <td>1</td>\n",
       "      <td>1</td>\n",
       "    </tr>\n",
       "    <tr>\n",
       "      <th>4</th>\n",
       "      <td>7</td>\n",
       "      <td>43</td>\n",
       "      <td>31</td>\n",
       "      <td>1</td>\n",
       "      <td>0</td>\n",
       "      <td>1.3</td>\n",
       "      <td>30</td>\n",
       "      <td>30.0</td>\n",
       "      <td>24.0</td>\n",
       "      <td>1</td>\n",
       "      <td>1</td>\n",
       "    </tr>\n",
       "    <tr>\n",
       "      <th>...</th>\n",
       "      <td>...</td>\n",
       "      <td>...</td>\n",
       "      <td>...</td>\n",
       "      <td>...</td>\n",
       "      <td>...</td>\n",
       "      <td>...</td>\n",
       "      <td>...</td>\n",
       "      <td>...</td>\n",
       "      <td>...</td>\n",
       "      <td>...</td>\n",
       "      <td>...</td>\n",
       "    </tr>\n",
       "    <tr>\n",
       "      <th>374</th>\n",
       "      <td>38</td>\n",
       "      <td>79</td>\n",
       "      <td>32</td>\n",
       "      <td>1</td>\n",
       "      <td>16</td>\n",
       "      <td>1.4</td>\n",
       "      <td>21</td>\n",
       "      <td>50.0</td>\n",
       "      <td>30.0</td>\n",
       "      <td>0</td>\n",
       "      <td>1</td>\n",
       "    </tr>\n",
       "    <tr>\n",
       "      <th>375</th>\n",
       "      <td>41</td>\n",
       "      <td>132</td>\n",
       "      <td>33</td>\n",
       "      <td>2</td>\n",
       "      <td>0</td>\n",
       "      <td>1.4</td>\n",
       "      <td>32</td>\n",
       "      <td>50.0</td>\n",
       "      <td>15.0</td>\n",
       "      <td>1</td>\n",
       "      <td>1</td>\n",
       "    </tr>\n",
       "    <tr>\n",
       "      <th>376</th>\n",
       "      <td>9</td>\n",
       "      <td>119</td>\n",
       "      <td>12</td>\n",
       "      <td>1</td>\n",
       "      <td>0</td>\n",
       "      <td>1.4</td>\n",
       "      <td>32</td>\n",
       "      <td>50.0</td>\n",
       "      <td>25.0</td>\n",
       "      <td>1</td>\n",
       "      <td>1</td>\n",
       "    </tr>\n",
       "    <tr>\n",
       "      <th>377</th>\n",
       "      <td>26</td>\n",
       "      <td>118</td>\n",
       "      <td>5</td>\n",
       "      <td>1</td>\n",
       "      <td>0</td>\n",
       "      <td>1.6</td>\n",
       "      <td>17</td>\n",
       "      <td>50.0</td>\n",
       "      <td>14.0</td>\n",
       "      <td>0</td>\n",
       "      <td>1</td>\n",
       "    </tr>\n",
       "    <tr>\n",
       "      <th>378</th>\n",
       "      <td>35</td>\n",
       "      <td>71</td>\n",
       "      <td>31</td>\n",
       "      <td>2</td>\n",
       "      <td>0</td>\n",
       "      <td>1.4</td>\n",
       "      <td>32</td>\n",
       "      <td>50.0</td>\n",
       "      <td>72.0</td>\n",
       "      <td>1</td>\n",
       "      <td>1</td>\n",
       "    </tr>\n",
       "  </tbody>\n",
       "</table>\n",
       "<p>379 rows × 11 columns</p>\n",
       "</div>"
      ],
      "text/plain": [
       "     Brand  Model  Operating System  Connectivity  Display Type  Display Size  \\\n",
       "0        1    127                34             2            17           1.9   \n",
       "1       30     36                31             2             0           1.4   \n",
       "2        8    105                 9             1             0           1.3   \n",
       "3        6    109                 7             1             0           1.6   \n",
       "4        7     43                31             1             0           1.3   \n",
       "..     ...    ...               ...           ...           ...           ...   \n",
       "374     38     79                32             1            16           1.4   \n",
       "375     41    132                33             2             0           1.4   \n",
       "376      9    119                12             1             0           1.4   \n",
       "377     26    118                 5             1             0           1.6   \n",
       "378     35     71                31             2             0           1.4   \n",
       "\n",
       "     Resolution  Water Resistance  Battery Life  GPS  NFC  \n",
       "0            27              50.0          18.0    1    1  \n",
       "1            31              50.0          40.0    1    1  \n",
       "2            30              50.0          11.0    1    0  \n",
       "3            19              50.0           6.0    1    1  \n",
       "4            30              30.0          24.0    1    1  \n",
       "..          ...               ...           ...  ...  ...  \n",
       "374          21              50.0          30.0    0    1  \n",
       "375          32              50.0          15.0    1    1  \n",
       "376          32              50.0          25.0    1    1  \n",
       "377          17              50.0          14.0    0    1  \n",
       "378          32              50.0          72.0    1    1  \n",
       "\n",
       "[379 rows x 11 columns]"
      ]
     },
     "execution_count": 712,
     "metadata": {},
     "output_type": "execute_result"
    }
   ],
   "source": [
    "# X consists of independent variables\n",
    "X = df.drop(['Price'],axis=1)\n",
    "X"
   ]
  },
  {
   "cell_type": "code",
   "execution_count": 713,
   "metadata": {},
   "outputs": [
    {
     "data": {
      "text/plain": [
       "0      399.0\n",
       "1      249.0\n",
       "2      399.0\n",
       "3      229.0\n",
       "4      299.0\n",
       "       ...  \n",
       "374    279.0\n",
       "375    349.0\n",
       "376    249.0\n",
       "377    159.0\n",
       "378    299.0\n",
       "Name: Price, Length: 379, dtype: float64"
      ]
     },
     "execution_count": 713,
     "metadata": {},
     "output_type": "execute_result"
    }
   ],
   "source": [
    "y = df['Price']\n",
    "y"
   ]
  },
  {
   "cell_type": "code",
   "execution_count": 714,
   "metadata": {},
   "outputs": [
    {
     "name": "stdout",
     "output_type": "stream",
     "text": [
      "(303, 11)\n",
      "(76, 11)\n",
      "(303,)\n",
      "(76,)\n"
     ]
    }
   ],
   "source": [
    "X_train, X_test, y_train, y_test = train_test_split(X, y, test_size=0.20, random_state= 25)\n",
    "print(X_train.shape)\n",
    "print(X_test.shape)\n",
    "print(y_train.shape)\n",
    "print(y_test.shape)"
   ]
  },
  {
   "attachments": {},
   "cell_type": "markdown",
   "metadata": {},
   "source": [
    "# Linear Regression"
   ]
  },
  {
   "cell_type": "code",
   "execution_count": 715,
   "metadata": {},
   "outputs": [
    {
     "data": {
      "text/html": [
       "<style>#sk-container-id-31 {color: black;background-color: white;}#sk-container-id-31 pre{padding: 0;}#sk-container-id-31 div.sk-toggleable {background-color: white;}#sk-container-id-31 label.sk-toggleable__label {cursor: pointer;display: block;width: 100%;margin-bottom: 0;padding: 0.3em;box-sizing: border-box;text-align: center;}#sk-container-id-31 label.sk-toggleable__label-arrow:before {content: \"▸\";float: left;margin-right: 0.25em;color: #696969;}#sk-container-id-31 label.sk-toggleable__label-arrow:hover:before {color: black;}#sk-container-id-31 div.sk-estimator:hover label.sk-toggleable__label-arrow:before {color: black;}#sk-container-id-31 div.sk-toggleable__content {max-height: 0;max-width: 0;overflow: hidden;text-align: left;background-color: #f0f8ff;}#sk-container-id-31 div.sk-toggleable__content pre {margin: 0.2em;color: black;border-radius: 0.25em;background-color: #f0f8ff;}#sk-container-id-31 input.sk-toggleable__control:checked~div.sk-toggleable__content {max-height: 200px;max-width: 100%;overflow: auto;}#sk-container-id-31 input.sk-toggleable__control:checked~label.sk-toggleable__label-arrow:before {content: \"▾\";}#sk-container-id-31 div.sk-estimator input.sk-toggleable__control:checked~label.sk-toggleable__label {background-color: #d4ebff;}#sk-container-id-31 div.sk-label input.sk-toggleable__control:checked~label.sk-toggleable__label {background-color: #d4ebff;}#sk-container-id-31 input.sk-hidden--visually {border: 0;clip: rect(1px 1px 1px 1px);clip: rect(1px, 1px, 1px, 1px);height: 1px;margin: -1px;overflow: hidden;padding: 0;position: absolute;width: 1px;}#sk-container-id-31 div.sk-estimator {font-family: monospace;background-color: #f0f8ff;border: 1px dotted black;border-radius: 0.25em;box-sizing: border-box;margin-bottom: 0.5em;}#sk-container-id-31 div.sk-estimator:hover {background-color: #d4ebff;}#sk-container-id-31 div.sk-parallel-item::after {content: \"\";width: 100%;border-bottom: 1px solid gray;flex-grow: 1;}#sk-container-id-31 div.sk-label:hover label.sk-toggleable__label {background-color: #d4ebff;}#sk-container-id-31 div.sk-serial::before {content: \"\";position: absolute;border-left: 1px solid gray;box-sizing: border-box;top: 0;bottom: 0;left: 50%;z-index: 0;}#sk-container-id-31 div.sk-serial {display: flex;flex-direction: column;align-items: center;background-color: white;padding-right: 0.2em;padding-left: 0.2em;position: relative;}#sk-container-id-31 div.sk-item {position: relative;z-index: 1;}#sk-container-id-31 div.sk-parallel {display: flex;align-items: stretch;justify-content: center;background-color: white;position: relative;}#sk-container-id-31 div.sk-item::before, #sk-container-id-31 div.sk-parallel-item::before {content: \"\";position: absolute;border-left: 1px solid gray;box-sizing: border-box;top: 0;bottom: 0;left: 50%;z-index: -1;}#sk-container-id-31 div.sk-parallel-item {display: flex;flex-direction: column;z-index: 1;position: relative;background-color: white;}#sk-container-id-31 div.sk-parallel-item:first-child::after {align-self: flex-end;width: 50%;}#sk-container-id-31 div.sk-parallel-item:last-child::after {align-self: flex-start;width: 50%;}#sk-container-id-31 div.sk-parallel-item:only-child::after {width: 0;}#sk-container-id-31 div.sk-dashed-wrapped {border: 1px dashed gray;margin: 0 0.4em 0.5em 0.4em;box-sizing: border-box;padding-bottom: 0.4em;background-color: white;}#sk-container-id-31 div.sk-label label {font-family: monospace;font-weight: bold;display: inline-block;line-height: 1.2em;}#sk-container-id-31 div.sk-label-container {text-align: center;}#sk-container-id-31 div.sk-container {/* jupyter's `normalize.less` sets `[hidden] { display: none; }` but bootstrap.min.css set `[hidden] { display: none !important; }` so we also need the `!important` here to be able to override the default hidden behavior on the sphinx rendered scikit-learn.org. See: https://github.com/scikit-learn/scikit-learn/issues/21755 */display: inline-block !important;position: relative;}#sk-container-id-31 div.sk-text-repr-fallback {display: none;}</style><div id=\"sk-container-id-31\" class=\"sk-top-container\"><div class=\"sk-text-repr-fallback\"><pre>LinearRegression()</pre><b>In a Jupyter environment, please rerun this cell to show the HTML representation or trust the notebook. <br />On GitHub, the HTML representation is unable to render, please try loading this page with nbviewer.org.</b></div><div class=\"sk-container\" hidden><div class=\"sk-item\"><div class=\"sk-estimator sk-toggleable\"><input class=\"sk-toggleable__control sk-hidden--visually\" id=\"sk-estimator-id-31\" type=\"checkbox\" checked><label for=\"sk-estimator-id-31\" class=\"sk-toggleable__label sk-toggleable__label-arrow\">LinearRegression</label><div class=\"sk-toggleable__content\"><pre>LinearRegression()</pre></div></div></div></div></div>"
      ],
      "text/plain": [
       "LinearRegression()"
      ]
     },
     "execution_count": 715,
     "metadata": {},
     "output_type": "execute_result"
    }
   ],
   "source": [
    "lr = LinearRegression()\n",
    "lr.fit(X_train,y_train)"
   ]
  },
  {
   "cell_type": "code",
   "execution_count": 716,
   "metadata": {},
   "outputs": [],
   "source": [
    "predict_train = lr.predict(X_train)"
   ]
  },
  {
   "cell_type": "code",
   "execution_count": 717,
   "metadata": {},
   "outputs": [
    {
     "name": "stdout",
     "output_type": "stream",
     "text": [
      "R2 error is:  0.22931891720289843\n",
      "Root Mean Squared Error: 179.92233456305982\n"
     ]
    }
   ],
   "source": [
    "# training score\n",
    "error_score_lr_train = r2_score(y_train, predict_train)\n",
    "print(\"R2 error is: \", error_score_lr_train)\n",
    "mse = mean_squared_error(y_train, predict_train)\n",
    "rmse_lr_train = np.sqrt(mse)\n",
    "print('Root Mean Squared Error:', rmse_lr_train)"
   ]
  },
  {
   "cell_type": "code",
   "execution_count": 718,
   "metadata": {},
   "outputs": [],
   "source": [
    "predict_test = lr.predict(X_test)"
   ]
  },
  {
   "cell_type": "code",
   "execution_count": 719,
   "metadata": {},
   "outputs": [
    {
     "name": "stdout",
     "output_type": "stream",
     "text": [
      "R2 error is:  0.16603596698553302\n",
      "Root Mean Squared Error: 172.23706255286191\n"
     ]
    }
   ],
   "source": [
    "# testing score\n",
    "error_score_lr_test = r2_score(y_test, predict_test)\n",
    "print(\"R2 error is: \", error_score_lr_test)\n",
    "mse = mean_squared_error(y_test, predict_test)\n",
    "rmse_lr_test = np.sqrt(mse)\n",
    "print('Root Mean Squared Error:', rmse_lr_test)"
   ]
  },
  {
   "attachments": {},
   "cell_type": "markdown",
   "metadata": {},
   "source": [
    "# Random Forest Regressor"
   ]
  },
  {
   "cell_type": "code",
   "execution_count": 720,
   "metadata": {},
   "outputs": [
    {
     "data": {
      "text/html": [
       "<style>#sk-container-id-32 {color: black;background-color: white;}#sk-container-id-32 pre{padding: 0;}#sk-container-id-32 div.sk-toggleable {background-color: white;}#sk-container-id-32 label.sk-toggleable__label {cursor: pointer;display: block;width: 100%;margin-bottom: 0;padding: 0.3em;box-sizing: border-box;text-align: center;}#sk-container-id-32 label.sk-toggleable__label-arrow:before {content: \"▸\";float: left;margin-right: 0.25em;color: #696969;}#sk-container-id-32 label.sk-toggleable__label-arrow:hover:before {color: black;}#sk-container-id-32 div.sk-estimator:hover label.sk-toggleable__label-arrow:before {color: black;}#sk-container-id-32 div.sk-toggleable__content {max-height: 0;max-width: 0;overflow: hidden;text-align: left;background-color: #f0f8ff;}#sk-container-id-32 div.sk-toggleable__content pre {margin: 0.2em;color: black;border-radius: 0.25em;background-color: #f0f8ff;}#sk-container-id-32 input.sk-toggleable__control:checked~div.sk-toggleable__content {max-height: 200px;max-width: 100%;overflow: auto;}#sk-container-id-32 input.sk-toggleable__control:checked~label.sk-toggleable__label-arrow:before {content: \"▾\";}#sk-container-id-32 div.sk-estimator input.sk-toggleable__control:checked~label.sk-toggleable__label {background-color: #d4ebff;}#sk-container-id-32 div.sk-label input.sk-toggleable__control:checked~label.sk-toggleable__label {background-color: #d4ebff;}#sk-container-id-32 input.sk-hidden--visually {border: 0;clip: rect(1px 1px 1px 1px);clip: rect(1px, 1px, 1px, 1px);height: 1px;margin: -1px;overflow: hidden;padding: 0;position: absolute;width: 1px;}#sk-container-id-32 div.sk-estimator {font-family: monospace;background-color: #f0f8ff;border: 1px dotted black;border-radius: 0.25em;box-sizing: border-box;margin-bottom: 0.5em;}#sk-container-id-32 div.sk-estimator:hover {background-color: #d4ebff;}#sk-container-id-32 div.sk-parallel-item::after {content: \"\";width: 100%;border-bottom: 1px solid gray;flex-grow: 1;}#sk-container-id-32 div.sk-label:hover label.sk-toggleable__label {background-color: #d4ebff;}#sk-container-id-32 div.sk-serial::before {content: \"\";position: absolute;border-left: 1px solid gray;box-sizing: border-box;top: 0;bottom: 0;left: 50%;z-index: 0;}#sk-container-id-32 div.sk-serial {display: flex;flex-direction: column;align-items: center;background-color: white;padding-right: 0.2em;padding-left: 0.2em;position: relative;}#sk-container-id-32 div.sk-item {position: relative;z-index: 1;}#sk-container-id-32 div.sk-parallel {display: flex;align-items: stretch;justify-content: center;background-color: white;position: relative;}#sk-container-id-32 div.sk-item::before, #sk-container-id-32 div.sk-parallel-item::before {content: \"\";position: absolute;border-left: 1px solid gray;box-sizing: border-box;top: 0;bottom: 0;left: 50%;z-index: -1;}#sk-container-id-32 div.sk-parallel-item {display: flex;flex-direction: column;z-index: 1;position: relative;background-color: white;}#sk-container-id-32 div.sk-parallel-item:first-child::after {align-self: flex-end;width: 50%;}#sk-container-id-32 div.sk-parallel-item:last-child::after {align-self: flex-start;width: 50%;}#sk-container-id-32 div.sk-parallel-item:only-child::after {width: 0;}#sk-container-id-32 div.sk-dashed-wrapped {border: 1px dashed gray;margin: 0 0.4em 0.5em 0.4em;box-sizing: border-box;padding-bottom: 0.4em;background-color: white;}#sk-container-id-32 div.sk-label label {font-family: monospace;font-weight: bold;display: inline-block;line-height: 1.2em;}#sk-container-id-32 div.sk-label-container {text-align: center;}#sk-container-id-32 div.sk-container {/* jupyter's `normalize.less` sets `[hidden] { display: none; }` but bootstrap.min.css set `[hidden] { display: none !important; }` so we also need the `!important` here to be able to override the default hidden behavior on the sphinx rendered scikit-learn.org. See: https://github.com/scikit-learn/scikit-learn/issues/21755 */display: inline-block !important;position: relative;}#sk-container-id-32 div.sk-text-repr-fallback {display: none;}</style><div id=\"sk-container-id-32\" class=\"sk-top-container\"><div class=\"sk-text-repr-fallback\"><pre>RandomForestRegressor(max_depth=8, max_features=0.8,\n",
       "                      min_weight_fraction_leaf=0.05, n_estimators=50,\n",
       "                      random_state=42)</pre><b>In a Jupyter environment, please rerun this cell to show the HTML representation or trust the notebook. <br />On GitHub, the HTML representation is unable to render, please try loading this page with nbviewer.org.</b></div><div class=\"sk-container\" hidden><div class=\"sk-item\"><div class=\"sk-estimator sk-toggleable\"><input class=\"sk-toggleable__control sk-hidden--visually\" id=\"sk-estimator-id-32\" type=\"checkbox\" checked><label for=\"sk-estimator-id-32\" class=\"sk-toggleable__label sk-toggleable__label-arrow\">RandomForestRegressor</label><div class=\"sk-toggleable__content\"><pre>RandomForestRegressor(max_depth=8, max_features=0.8,\n",
       "                      min_weight_fraction_leaf=0.05, n_estimators=50,\n",
       "                      random_state=42)</pre></div></div></div></div></div>"
      ],
      "text/plain": [
       "RandomForestRegressor(max_depth=8, max_features=0.8,\n",
       "                      min_weight_fraction_leaf=0.05, n_estimators=50,\n",
       "                      random_state=42)"
      ]
     },
     "execution_count": 720,
     "metadata": {},
     "output_type": "execute_result"
    }
   ],
   "source": [
    "rfr = RandomForestRegressor(n_estimators = 50,\n",
    "                             max_depth = 8,\n",
    "                             min_weight_fraction_leaf = 0.05,\n",
    "                             max_features = 0.8,\n",
    "                             random_state = 42)\n",
    "rfr.fit(X_train,y_train)"
   ]
  },
  {
   "cell_type": "code",
   "execution_count": 721,
   "metadata": {},
   "outputs": [],
   "source": [
    "predict_train_rfr = rfr.predict(X_train)"
   ]
  },
  {
   "cell_type": "code",
   "execution_count": 722,
   "metadata": {},
   "outputs": [
    {
     "name": "stdout",
     "output_type": "stream",
     "text": [
      "R2 error is:  0.4977390127720518\n",
      "Root Mean Squared Error: 145.24876590763805\n"
     ]
    }
   ],
   "source": [
    "# training score\n",
    "error_score_rfr_train = r2_score(y_train, predict_train_rfr)\n",
    "print(\"R2 error is: \", error_score_rfr_train)\n",
    "mse = mean_squared_error(y_train, predict_train_rfr)\n",
    "rmse_rfr_train = np.sqrt(mse)\n",
    "print('Root Mean Squared Error:', rmse_rfr_train)"
   ]
  },
  {
   "cell_type": "code",
   "execution_count": 723,
   "metadata": {},
   "outputs": [],
   "source": [
    "predict_test_rfr = rfr.predict(X_test)"
   ]
  },
  {
   "cell_type": "code",
   "execution_count": 724,
   "metadata": {},
   "outputs": [
    {
     "name": "stdout",
     "output_type": "stream",
     "text": [
      "R2 error is:  0.42767708530475834\n",
      "Root Mean Squared Error: 142.68342213482845\n"
     ]
    }
   ],
   "source": [
    "# testing score\n",
    "error_score_rfr_test = r2_score(y_test, predict_test_rfr)\n",
    "print(\"R2 error is: \", error_score_rfr_test)\n",
    "mse = mean_squared_error(y_test, predict_test_rfr)\n",
    "rmse_rfr_test = np.sqrt(mse)\n",
    "print('Root Mean Squared Error:', rmse_rfr_test)"
   ]
  },
  {
   "attachments": {},
   "cell_type": "markdown",
   "metadata": {},
   "source": [
    "# Decision Tree Regressor"
   ]
  },
  {
   "cell_type": "code",
   "execution_count": 725,
   "metadata": {},
   "outputs": [
    {
     "data": {
      "text/html": [
       "<style>#sk-container-id-33 {color: black;background-color: white;}#sk-container-id-33 pre{padding: 0;}#sk-container-id-33 div.sk-toggleable {background-color: white;}#sk-container-id-33 label.sk-toggleable__label {cursor: pointer;display: block;width: 100%;margin-bottom: 0;padding: 0.3em;box-sizing: border-box;text-align: center;}#sk-container-id-33 label.sk-toggleable__label-arrow:before {content: \"▸\";float: left;margin-right: 0.25em;color: #696969;}#sk-container-id-33 label.sk-toggleable__label-arrow:hover:before {color: black;}#sk-container-id-33 div.sk-estimator:hover label.sk-toggleable__label-arrow:before {color: black;}#sk-container-id-33 div.sk-toggleable__content {max-height: 0;max-width: 0;overflow: hidden;text-align: left;background-color: #f0f8ff;}#sk-container-id-33 div.sk-toggleable__content pre {margin: 0.2em;color: black;border-radius: 0.25em;background-color: #f0f8ff;}#sk-container-id-33 input.sk-toggleable__control:checked~div.sk-toggleable__content {max-height: 200px;max-width: 100%;overflow: auto;}#sk-container-id-33 input.sk-toggleable__control:checked~label.sk-toggleable__label-arrow:before {content: \"▾\";}#sk-container-id-33 div.sk-estimator input.sk-toggleable__control:checked~label.sk-toggleable__label {background-color: #d4ebff;}#sk-container-id-33 div.sk-label input.sk-toggleable__control:checked~label.sk-toggleable__label {background-color: #d4ebff;}#sk-container-id-33 input.sk-hidden--visually {border: 0;clip: rect(1px 1px 1px 1px);clip: rect(1px, 1px, 1px, 1px);height: 1px;margin: -1px;overflow: hidden;padding: 0;position: absolute;width: 1px;}#sk-container-id-33 div.sk-estimator {font-family: monospace;background-color: #f0f8ff;border: 1px dotted black;border-radius: 0.25em;box-sizing: border-box;margin-bottom: 0.5em;}#sk-container-id-33 div.sk-estimator:hover {background-color: #d4ebff;}#sk-container-id-33 div.sk-parallel-item::after {content: \"\";width: 100%;border-bottom: 1px solid gray;flex-grow: 1;}#sk-container-id-33 div.sk-label:hover label.sk-toggleable__label {background-color: #d4ebff;}#sk-container-id-33 div.sk-serial::before {content: \"\";position: absolute;border-left: 1px solid gray;box-sizing: border-box;top: 0;bottom: 0;left: 50%;z-index: 0;}#sk-container-id-33 div.sk-serial {display: flex;flex-direction: column;align-items: center;background-color: white;padding-right: 0.2em;padding-left: 0.2em;position: relative;}#sk-container-id-33 div.sk-item {position: relative;z-index: 1;}#sk-container-id-33 div.sk-parallel {display: flex;align-items: stretch;justify-content: center;background-color: white;position: relative;}#sk-container-id-33 div.sk-item::before, #sk-container-id-33 div.sk-parallel-item::before {content: \"\";position: absolute;border-left: 1px solid gray;box-sizing: border-box;top: 0;bottom: 0;left: 50%;z-index: -1;}#sk-container-id-33 div.sk-parallel-item {display: flex;flex-direction: column;z-index: 1;position: relative;background-color: white;}#sk-container-id-33 div.sk-parallel-item:first-child::after {align-self: flex-end;width: 50%;}#sk-container-id-33 div.sk-parallel-item:last-child::after {align-self: flex-start;width: 50%;}#sk-container-id-33 div.sk-parallel-item:only-child::after {width: 0;}#sk-container-id-33 div.sk-dashed-wrapped {border: 1px dashed gray;margin: 0 0.4em 0.5em 0.4em;box-sizing: border-box;padding-bottom: 0.4em;background-color: white;}#sk-container-id-33 div.sk-label label {font-family: monospace;font-weight: bold;display: inline-block;line-height: 1.2em;}#sk-container-id-33 div.sk-label-container {text-align: center;}#sk-container-id-33 div.sk-container {/* jupyter's `normalize.less` sets `[hidden] { display: none; }` but bootstrap.min.css set `[hidden] { display: none !important; }` so we also need the `!important` here to be able to override the default hidden behavior on the sphinx rendered scikit-learn.org. See: https://github.com/scikit-learn/scikit-learn/issues/21755 */display: inline-block !important;position: relative;}#sk-container-id-33 div.sk-text-repr-fallback {display: none;}</style><div id=\"sk-container-id-33\" class=\"sk-top-container\"><div class=\"sk-text-repr-fallback\"><pre>DecisionTreeRegressor(max_depth=2, min_samples_leaf=5, min_samples_split=6)</pre><b>In a Jupyter environment, please rerun this cell to show the HTML representation or trust the notebook. <br />On GitHub, the HTML representation is unable to render, please try loading this page with nbviewer.org.</b></div><div class=\"sk-container\" hidden><div class=\"sk-item\"><div class=\"sk-estimator sk-toggleable\"><input class=\"sk-toggleable__control sk-hidden--visually\" id=\"sk-estimator-id-33\" type=\"checkbox\" checked><label for=\"sk-estimator-id-33\" class=\"sk-toggleable__label sk-toggleable__label-arrow\">DecisionTreeRegressor</label><div class=\"sk-toggleable__content\"><pre>DecisionTreeRegressor(max_depth=2, min_samples_leaf=5, min_samples_split=6)</pre></div></div></div></div></div>"
      ],
      "text/plain": [
       "DecisionTreeRegressor(max_depth=2, min_samples_leaf=5, min_samples_split=6)"
      ]
     },
     "execution_count": 725,
     "metadata": {},
     "output_type": "execute_result"
    }
   ],
   "source": [
    "dtr = DecisionTreeRegressor(max_depth= 2, min_samples_split= 6, min_samples_leaf= 5)\n",
    "dtr.fit(X_train,y_train)"
   ]
  },
  {
   "cell_type": "code",
   "execution_count": 726,
   "metadata": {},
   "outputs": [],
   "source": [
    "predict_train_dtr = dtr.predict(X_train)"
   ]
  },
  {
   "cell_type": "code",
   "execution_count": 727,
   "metadata": {},
   "outputs": [
    {
     "name": "stdout",
     "output_type": "stream",
     "text": [
      "R2 error is:  0.3429614927518523\n",
      "Root Mean Squared Error: 166.12811592656647\n"
     ]
    }
   ],
   "source": [
    "# training score\n",
    "error_score_dtr_train = r2_score(y_train, predict_train_dtr)\n",
    "print(\"R2 error is: \", error_score_dtr_train)\n",
    "mse = mean_squared_error(y_train, predict_train_dtr)\n",
    "rmse_dtr_train = np.sqrt(mse)\n",
    "print('Root Mean Squared Error:', rmse_dtr_train)"
   ]
  },
  {
   "cell_type": "code",
   "execution_count": 728,
   "metadata": {},
   "outputs": [],
   "source": [
    "predict_test_dtr = dtr.predict(X_test)"
   ]
  },
  {
   "cell_type": "code",
   "execution_count": 729,
   "metadata": {},
   "outputs": [
    {
     "name": "stdout",
     "output_type": "stream",
     "text": [
      "R2 error is:  0.18085636154493812\n",
      "Root Mean Squared Error: 170.69978774403583\n"
     ]
    }
   ],
   "source": [
    "# testing score\n",
    "error_score_dtr_test = r2_score(y_test, predict_test_dtr)\n",
    "print(\"R2 error is: \", error_score_dtr_test)\n",
    "mse = mean_squared_error(y_test, predict_test_dtr)\n",
    "rmse_dtr_test = np.sqrt(mse)\n",
    "print('Root Mean Squared Error:', rmse_dtr_test)"
   ]
  },
  {
   "attachments": {},
   "cell_type": "markdown",
   "metadata": {},
   "source": [
    "# Gradient Boosting Regressor"
   ]
  },
  {
   "cell_type": "code",
   "execution_count": 730,
   "metadata": {},
   "outputs": [
    {
     "data": {
      "text/html": [
       "<style>#sk-container-id-34 {color: black;background-color: white;}#sk-container-id-34 pre{padding: 0;}#sk-container-id-34 div.sk-toggleable {background-color: white;}#sk-container-id-34 label.sk-toggleable__label {cursor: pointer;display: block;width: 100%;margin-bottom: 0;padding: 0.3em;box-sizing: border-box;text-align: center;}#sk-container-id-34 label.sk-toggleable__label-arrow:before {content: \"▸\";float: left;margin-right: 0.25em;color: #696969;}#sk-container-id-34 label.sk-toggleable__label-arrow:hover:before {color: black;}#sk-container-id-34 div.sk-estimator:hover label.sk-toggleable__label-arrow:before {color: black;}#sk-container-id-34 div.sk-toggleable__content {max-height: 0;max-width: 0;overflow: hidden;text-align: left;background-color: #f0f8ff;}#sk-container-id-34 div.sk-toggleable__content pre {margin: 0.2em;color: black;border-radius: 0.25em;background-color: #f0f8ff;}#sk-container-id-34 input.sk-toggleable__control:checked~div.sk-toggleable__content {max-height: 200px;max-width: 100%;overflow: auto;}#sk-container-id-34 input.sk-toggleable__control:checked~label.sk-toggleable__label-arrow:before {content: \"▾\";}#sk-container-id-34 div.sk-estimator input.sk-toggleable__control:checked~label.sk-toggleable__label {background-color: #d4ebff;}#sk-container-id-34 div.sk-label input.sk-toggleable__control:checked~label.sk-toggleable__label {background-color: #d4ebff;}#sk-container-id-34 input.sk-hidden--visually {border: 0;clip: rect(1px 1px 1px 1px);clip: rect(1px, 1px, 1px, 1px);height: 1px;margin: -1px;overflow: hidden;padding: 0;position: absolute;width: 1px;}#sk-container-id-34 div.sk-estimator {font-family: monospace;background-color: #f0f8ff;border: 1px dotted black;border-radius: 0.25em;box-sizing: border-box;margin-bottom: 0.5em;}#sk-container-id-34 div.sk-estimator:hover {background-color: #d4ebff;}#sk-container-id-34 div.sk-parallel-item::after {content: \"\";width: 100%;border-bottom: 1px solid gray;flex-grow: 1;}#sk-container-id-34 div.sk-label:hover label.sk-toggleable__label {background-color: #d4ebff;}#sk-container-id-34 div.sk-serial::before {content: \"\";position: absolute;border-left: 1px solid gray;box-sizing: border-box;top: 0;bottom: 0;left: 50%;z-index: 0;}#sk-container-id-34 div.sk-serial {display: flex;flex-direction: column;align-items: center;background-color: white;padding-right: 0.2em;padding-left: 0.2em;position: relative;}#sk-container-id-34 div.sk-item {position: relative;z-index: 1;}#sk-container-id-34 div.sk-parallel {display: flex;align-items: stretch;justify-content: center;background-color: white;position: relative;}#sk-container-id-34 div.sk-item::before, #sk-container-id-34 div.sk-parallel-item::before {content: \"\";position: absolute;border-left: 1px solid gray;box-sizing: border-box;top: 0;bottom: 0;left: 50%;z-index: -1;}#sk-container-id-34 div.sk-parallel-item {display: flex;flex-direction: column;z-index: 1;position: relative;background-color: white;}#sk-container-id-34 div.sk-parallel-item:first-child::after {align-self: flex-end;width: 50%;}#sk-container-id-34 div.sk-parallel-item:last-child::after {align-self: flex-start;width: 50%;}#sk-container-id-34 div.sk-parallel-item:only-child::after {width: 0;}#sk-container-id-34 div.sk-dashed-wrapped {border: 1px dashed gray;margin: 0 0.4em 0.5em 0.4em;box-sizing: border-box;padding-bottom: 0.4em;background-color: white;}#sk-container-id-34 div.sk-label label {font-family: monospace;font-weight: bold;display: inline-block;line-height: 1.2em;}#sk-container-id-34 div.sk-label-container {text-align: center;}#sk-container-id-34 div.sk-container {/* jupyter's `normalize.less` sets `[hidden] { display: none; }` but bootstrap.min.css set `[hidden] { display: none !important; }` so we also need the `!important` here to be able to override the default hidden behavior on the sphinx rendered scikit-learn.org. See: https://github.com/scikit-learn/scikit-learn/issues/21755 */display: inline-block !important;position: relative;}#sk-container-id-34 div.sk-text-repr-fallback {display: none;}</style><div id=\"sk-container-id-34\" class=\"sk-top-container\"><div class=\"sk-text-repr-fallback\"><pre>GradientBoostingRegressor(max_depth=1, random_state=42)</pre><b>In a Jupyter environment, please rerun this cell to show the HTML representation or trust the notebook. <br />On GitHub, the HTML representation is unable to render, please try loading this page with nbviewer.org.</b></div><div class=\"sk-container\" hidden><div class=\"sk-item\"><div class=\"sk-estimator sk-toggleable\"><input class=\"sk-toggleable__control sk-hidden--visually\" id=\"sk-estimator-id-34\" type=\"checkbox\" checked><label for=\"sk-estimator-id-34\" class=\"sk-toggleable__label sk-toggleable__label-arrow\">GradientBoostingRegressor</label><div class=\"sk-toggleable__content\"><pre>GradientBoostingRegressor(max_depth=1, random_state=42)</pre></div></div></div></div></div>"
      ],
      "text/plain": [
       "GradientBoostingRegressor(max_depth=1, random_state=42)"
      ]
     },
     "execution_count": 730,
     "metadata": {},
     "output_type": "execute_result"
    }
   ],
   "source": [
    "gbr = GradientBoostingRegressor(n_estimators=100, learning_rate=0.1, max_depth=1, random_state=42)\n",
    "gbr.fit(X_train,y_train)"
   ]
  },
  {
   "cell_type": "code",
   "execution_count": 731,
   "metadata": {},
   "outputs": [],
   "source": [
    "predict_train_gbr = gbr.predict(X_train)"
   ]
  },
  {
   "cell_type": "code",
   "execution_count": 732,
   "metadata": {},
   "outputs": [
    {
     "name": "stdout",
     "output_type": "stream",
     "text": [
      "R2 error is:  0.41649950162493654\n",
      "Root Mean Squared Error: 156.55550514239548\n"
     ]
    }
   ],
   "source": [
    "# training score\n",
    "error_score_gbr_train = r2_score(y_train, predict_train_gbr)\n",
    "print(\"R2 error is: \", error_score_gbr_train)\n",
    "mse = mean_squared_error(y_train, predict_train_gbr)\n",
    "rmse_gbr_train = np.sqrt(mse)\n",
    "print('Root Mean Squared Error:', rmse_gbr_train)"
   ]
  },
  {
   "cell_type": "code",
   "execution_count": 733,
   "metadata": {},
   "outputs": [],
   "source": [
    "predict_test_gbr = gbr.predict(X_test)"
   ]
  },
  {
   "cell_type": "code",
   "execution_count": 734,
   "metadata": {},
   "outputs": [
    {
     "name": "stdout",
     "output_type": "stream",
     "text": [
      "R2 error is:  0.4141301569073098\n",
      "Root Mean Squared Error: 144.36220988703525\n"
     ]
    }
   ],
   "source": [
    "# testing score\n",
    "error_score_gbr_test = r2_score(y_test, predict_test_gbr)\n",
    "print(\"R2 error is: \", error_score_gbr_test)\n",
    "mse = mean_squared_error(y_test, predict_test_gbr)\n",
    "rmse_gbr_test = np.sqrt(mse)\n",
    "print('Root Mean Squared Error:', rmse_gbr_test)"
   ]
  },
  {
   "cell_type": "code",
   "execution_count": 735,
   "metadata": {},
   "outputs": [],
   "source": [
    "#xgb = XGBRegressor()\n",
    "#param_grid = {\n",
    "    #'n_estimators': [100, 300,500,700, 1000],\n",
    "    #'learning_rate': [0.01,0.03, 0.05,0.07, 0.1,0.12],\n",
    "    #'max_depth': [3,4, 5, 7,9,11],\n",
    "    #'subsample': [0.3,0.5, 0.7,0.9, 1.0],\n",
    "    #'colsample_bytree': [0.3,0.5, 0.7,0.9, 1.0]\n",
    "#}\n",
    "#grid_search = GridSearchCV(xgb, param_grid, cv=5, scoring='r2')\n",
    "#grid_search.fit(X_train, y_train)\n",
    "#print(grid_search.best_params_)\n",
    "#xgb = XGBRegressor(n_estimators=1000, learning_rate=0.05, max_depth=7, subsample=1.0, colsample_bytree=0.7)\n",
    "#xgb.fit(X_train, y_train)\n"
   ]
  },
  {
   "attachments": {},
   "cell_type": "markdown",
   "metadata": {},
   "source": [
    "# XG Boost"
   ]
  },
  {
   "cell_type": "code",
   "execution_count": 736,
   "metadata": {},
   "outputs": [
    {
     "data": {
      "text/html": [
       "<style>#sk-container-id-35 {color: black;background-color: white;}#sk-container-id-35 pre{padding: 0;}#sk-container-id-35 div.sk-toggleable {background-color: white;}#sk-container-id-35 label.sk-toggleable__label {cursor: pointer;display: block;width: 100%;margin-bottom: 0;padding: 0.3em;box-sizing: border-box;text-align: center;}#sk-container-id-35 label.sk-toggleable__label-arrow:before {content: \"▸\";float: left;margin-right: 0.25em;color: #696969;}#sk-container-id-35 label.sk-toggleable__label-arrow:hover:before {color: black;}#sk-container-id-35 div.sk-estimator:hover label.sk-toggleable__label-arrow:before {color: black;}#sk-container-id-35 div.sk-toggleable__content {max-height: 0;max-width: 0;overflow: hidden;text-align: left;background-color: #f0f8ff;}#sk-container-id-35 div.sk-toggleable__content pre {margin: 0.2em;color: black;border-radius: 0.25em;background-color: #f0f8ff;}#sk-container-id-35 input.sk-toggleable__control:checked~div.sk-toggleable__content {max-height: 200px;max-width: 100%;overflow: auto;}#sk-container-id-35 input.sk-toggleable__control:checked~label.sk-toggleable__label-arrow:before {content: \"▾\";}#sk-container-id-35 div.sk-estimator input.sk-toggleable__control:checked~label.sk-toggleable__label {background-color: #d4ebff;}#sk-container-id-35 div.sk-label input.sk-toggleable__control:checked~label.sk-toggleable__label {background-color: #d4ebff;}#sk-container-id-35 input.sk-hidden--visually {border: 0;clip: rect(1px 1px 1px 1px);clip: rect(1px, 1px, 1px, 1px);height: 1px;margin: -1px;overflow: hidden;padding: 0;position: absolute;width: 1px;}#sk-container-id-35 div.sk-estimator {font-family: monospace;background-color: #f0f8ff;border: 1px dotted black;border-radius: 0.25em;box-sizing: border-box;margin-bottom: 0.5em;}#sk-container-id-35 div.sk-estimator:hover {background-color: #d4ebff;}#sk-container-id-35 div.sk-parallel-item::after {content: \"\";width: 100%;border-bottom: 1px solid gray;flex-grow: 1;}#sk-container-id-35 div.sk-label:hover label.sk-toggleable__label {background-color: #d4ebff;}#sk-container-id-35 div.sk-serial::before {content: \"\";position: absolute;border-left: 1px solid gray;box-sizing: border-box;top: 0;bottom: 0;left: 50%;z-index: 0;}#sk-container-id-35 div.sk-serial {display: flex;flex-direction: column;align-items: center;background-color: white;padding-right: 0.2em;padding-left: 0.2em;position: relative;}#sk-container-id-35 div.sk-item {position: relative;z-index: 1;}#sk-container-id-35 div.sk-parallel {display: flex;align-items: stretch;justify-content: center;background-color: white;position: relative;}#sk-container-id-35 div.sk-item::before, #sk-container-id-35 div.sk-parallel-item::before {content: \"\";position: absolute;border-left: 1px solid gray;box-sizing: border-box;top: 0;bottom: 0;left: 50%;z-index: -1;}#sk-container-id-35 div.sk-parallel-item {display: flex;flex-direction: column;z-index: 1;position: relative;background-color: white;}#sk-container-id-35 div.sk-parallel-item:first-child::after {align-self: flex-end;width: 50%;}#sk-container-id-35 div.sk-parallel-item:last-child::after {align-self: flex-start;width: 50%;}#sk-container-id-35 div.sk-parallel-item:only-child::after {width: 0;}#sk-container-id-35 div.sk-dashed-wrapped {border: 1px dashed gray;margin: 0 0.4em 0.5em 0.4em;box-sizing: border-box;padding-bottom: 0.4em;background-color: white;}#sk-container-id-35 div.sk-label label {font-family: monospace;font-weight: bold;display: inline-block;line-height: 1.2em;}#sk-container-id-35 div.sk-label-container {text-align: center;}#sk-container-id-35 div.sk-container {/* jupyter's `normalize.less` sets `[hidden] { display: none; }` but bootstrap.min.css set `[hidden] { display: none !important; }` so we also need the `!important` here to be able to override the default hidden behavior on the sphinx rendered scikit-learn.org. See: https://github.com/scikit-learn/scikit-learn/issues/21755 */display: inline-block !important;position: relative;}#sk-container-id-35 div.sk-text-repr-fallback {display: none;}</style><div id=\"sk-container-id-35\" class=\"sk-top-container\"><div class=\"sk-text-repr-fallback\"><pre>XGBRegressor(base_score=None, booster=None, callbacks=None,\n",
       "             colsample_bylevel=0.5, colsample_bynode=None, colsample_bytree=0.4,\n",
       "             early_stopping_rounds=None, enable_categorical=False,\n",
       "             eval_metric=None, feature_types=None, gamma=None, gpu_id=None,\n",
       "             grow_policy=None, importance_type=None,\n",
       "             interaction_constraints=None, learning_rate=0.06, max_bin=None,\n",
       "             max_cat_threshold=None, max_cat_to_onehot=None,\n",
       "             max_delta_step=None, max_depth=2, max_leaves=3,\n",
       "             min_child_weight=None, missing=nan, monotone_constraints=None,\n",
       "             n_estimators=1000, n_jobs=None, num_parallel_tree=None,\n",
       "             predictor=None, random_state=1, ...)</pre><b>In a Jupyter environment, please rerun this cell to show the HTML representation or trust the notebook. <br />On GitHub, the HTML representation is unable to render, please try loading this page with nbviewer.org.</b></div><div class=\"sk-container\" hidden><div class=\"sk-item\"><div class=\"sk-estimator sk-toggleable\"><input class=\"sk-toggleable__control sk-hidden--visually\" id=\"sk-estimator-id-35\" type=\"checkbox\" checked><label for=\"sk-estimator-id-35\" class=\"sk-toggleable__label sk-toggleable__label-arrow\">XGBRegressor</label><div class=\"sk-toggleable__content\"><pre>XGBRegressor(base_score=None, booster=None, callbacks=None,\n",
       "             colsample_bylevel=0.5, colsample_bynode=None, colsample_bytree=0.4,\n",
       "             early_stopping_rounds=None, enable_categorical=False,\n",
       "             eval_metric=None, feature_types=None, gamma=None, gpu_id=None,\n",
       "             grow_policy=None, importance_type=None,\n",
       "             interaction_constraints=None, learning_rate=0.06, max_bin=None,\n",
       "             max_cat_threshold=None, max_cat_to_onehot=None,\n",
       "             max_delta_step=None, max_depth=2, max_leaves=3,\n",
       "             min_child_weight=None, missing=nan, monotone_constraints=None,\n",
       "             n_estimators=1000, n_jobs=None, num_parallel_tree=None,\n",
       "             predictor=None, random_state=1, ...)</pre></div></div></div></div></div>"
      ],
      "text/plain": [
       "XGBRegressor(base_score=None, booster=None, callbacks=None,\n",
       "             colsample_bylevel=0.5, colsample_bynode=None, colsample_bytree=0.4,\n",
       "             early_stopping_rounds=None, enable_categorical=False,\n",
       "             eval_metric=None, feature_types=None, gamma=None, gpu_id=None,\n",
       "             grow_policy=None, importance_type=None,\n",
       "             interaction_constraints=None, learning_rate=0.06, max_bin=None,\n",
       "             max_cat_threshold=None, max_cat_to_onehot=None,\n",
       "             max_delta_step=None, max_depth=2, max_leaves=3,\n",
       "             min_child_weight=None, missing=nan, monotone_constraints=None,\n",
       "             n_estimators=1000, n_jobs=None, num_parallel_tree=None,\n",
       "             predictor=None, random_state=1, ...)"
      ]
     },
     "execution_count": 736,
     "metadata": {},
     "output_type": "execute_result"
    }
   ],
   "source": [
    "\n",
    "xgb = XGBRegressor(n_estimators=1000, learning_rate=0.06, max_depth=2, subsample=0.7,\n",
    "                    colsample_bytree=0.4,colsample_bylevel = 0.5,\n",
    "                   max_leaves = 3, random_state = 1)\n",
    "xgb.fit(X_train, y_train)"
   ]
  },
  {
   "cell_type": "code",
   "execution_count": 737,
   "metadata": {},
   "outputs": [],
   "source": [
    "predict_train_xgb = xgb.predict(X_train)"
   ]
  },
  {
   "cell_type": "code",
   "execution_count": 738,
   "metadata": {},
   "outputs": [
    {
     "name": "stdout",
     "output_type": "stream",
     "text": [
      "R2 error is:  0.9572427378590717\n",
      "Root Mean Squared Error: 42.37919201548533\n"
     ]
    }
   ],
   "source": [
    "# training score\n",
    "error_score_xgb_train = r2_score(y_train, predict_train_xgb)\n",
    "print(\"R2 error is: \", error_score_xgb_train)\n",
    "mse = mean_squared_error(y_train, predict_train_xgb)\n",
    "rmse_xgb_train = np.sqrt(mse)\n",
    "print('Root Mean Squared Error:', rmse_xgb_train)"
   ]
  },
  {
   "cell_type": "code",
   "execution_count": 739,
   "metadata": {},
   "outputs": [],
   "source": [
    "predict_test_xgb = xgb.predict(X_test)"
   ]
  },
  {
   "cell_type": "code",
   "execution_count": 740,
   "metadata": {},
   "outputs": [
    {
     "name": "stdout",
     "output_type": "stream",
     "text": [
      "R2 error is:  0.8419333811810408\n",
      "Root Mean Squared Error: 74.98476442359669\n"
     ]
    }
   ],
   "source": [
    "# testing score\n",
    "error_score_xgb_test = r2_score(y_test, predict_test_xgb)\n",
    "print(\"R2 error is: \", error_score_xgb_test)\n",
    "mse = mean_squared_error(y_test, predict_test_xgb)\n",
    "rmse_xgb_test = np.sqrt(mse)\n",
    "print('Root Mean Squared Error:', rmse_xgb_test)"
   ]
  },
  {
   "attachments": {},
   "cell_type": "markdown",
   "metadata": {},
   "source": [
    "# Comparing the results"
   ]
  },
  {
   "cell_type": "code",
   "execution_count": 741,
   "metadata": {},
   "outputs": [
    {
     "name": "stdout",
     "output_type": "stream",
     "text": [
      "                         Model  Training R2  Testing R2  Training RMSE  \\\n",
      "0            Linear Regression     0.229319    0.166036     179.922335   \n",
      "1      Decision Tree Regressor     0.342961    0.180856     166.128116   \n",
      "2      Random Forest Regressor     0.497739    0.427677     145.248766   \n",
      "3  Gradient Boosting Regressor     0.416500    0.414130     156.555505   \n",
      "4           XG Boost Regressor     0.957243    0.841933      42.379192   \n",
      "\n",
      "   Testing RMSE  \n",
      "0    172.237063  \n",
      "1    170.699788  \n",
      "2    142.683422  \n",
      "3    144.362210  \n",
      "4     74.984764  \n"
     ]
    }
   ],
   "source": [
    "results = pd.DataFrame(columns=['Model', 'Training R2', 'Testing R2', 'Training RMSE', 'Testing RMSE'])\n",
    "results.loc[0] = ['Linear Regression', error_score_lr_train, error_score_lr_test, rmse_lr_train, rmse_lr_test]\n",
    "results.loc[1] = ['Decision Tree Regressor', error_score_dtr_train, error_score_dtr_test, rmse_dtr_train, rmse_dtr_test]\n",
    "results.loc[2] = ['Random Forest Regressor', error_score_rfr_train, error_score_rfr_test, rmse_rfr_train, rmse_rfr_test]\n",
    "results.loc[3] = ['Gradient Boosting Regressor', error_score_gbr_train, error_score_gbr_test, rmse_gbr_train, rmse_gbr_test]\n",
    "results.loc[4] = ['XG Boost Regressor', error_score_xgb_train, error_score_xgb_test, rmse_xgb_train, rmse_xgb_test]\n",
    "\n",
    "\n",
    "print(results)"
   ]
  },
  {
   "cell_type": "code",
   "execution_count": 742,
   "metadata": {},
   "outputs": [
    {
     "data": {
      "image/png": "[encoded data removed]",
      "text/plain": [
       "<Figure size 800x500 with 1 Axes>"
      ]
     },
     "metadata": {},
     "output_type": "display_data"
    }
   ],
   "source": [
    "fig, ax = plt.subplots(figsize=(8, 5))\n",
    "results.plot(x='Model', y=['Training R2', 'Testing R2'], kind='barh', ax=ax)\n",
    "ax.set_xlabel('R2')\n",
    "ax.set_title('R2 Comparison')\n",
    "plt.tight_layout()\n",
    "plt.show()"
   ]
  },
  {
   "cell_type": "code",
   "execution_count": 743,
   "metadata": {},
   "outputs": [
    {
     "data": {
      "image/png": "[encoded data removed]",
      "text/plain": [
       "<Figure size 800x500 with 1 Axes>"
      ]
     },
     "metadata": {},
     "output_type": "display_data"
    }
   ],
   "source": [
    "fig, ax = plt.subplots(figsize=(8, 5))\n",
    "results.plot(x='Model', y=['Training RMSE', 'Testing RMSE'], kind='barh', ax=ax)\n",
    "ax.set_xlabel('RMSE')\n",
    "ax.set_title('RMSE Comparison')\n",
    "plt.tight_layout()\n",
    "plt.show()"
   ]
  },
  {
   "cell_type": "code",
   "execution_count": 744,
   "metadata": {},
   "outputs": [],
   "source": [
    "# dumping the selected model\n",
    "pickle.dump(xgb,open('SW.pkl','wb'))"
   ]
  },
  {
   "cell_type": "code",
   "execution_count": 745,
   "metadata": {},
   "outputs": [
    {
     "data": {
      "text/plain": [
       "array([244.14438], dtype=float32)"
      ]
     },
     "execution_count": 745,
     "metadata": {},
     "output_type": "execute_result"
    }
   ],
   "source": [
    "prediction = xgb.predict(pd.DataFrame([[6,109,7,1,0,1.6,19,50.0,6.0,1,1]], columns= ['Brand', 'Model', 'Operating System', 'Connectivity', 'Display Type', 'Display Size',\n",
    "       'Resolution', 'Water Resistance','Battery Life','GPS','NFC']))\n",
    "prediction"
   ]
  },
  {
   "attachments": {},
   "cell_type": "markdown",
   "metadata": {},
   "source": [
    "# Used as reference for the main.py() file"
   ]
  },
  {
   "cell_type": "code",
   "execution_count": 746,
   "metadata": {},
   "outputs": [
    {
     "name": "stdout",
     "output_type": "stream",
     "text": [
      "8     35\n",
      "18    24\n",
      "6     24\n",
      "7     23\n",
      "0     20\n",
      "30    19\n",
      "10    19\n",
      "35    18\n",
      "39    17\n",
      "31    17\n",
      "33    16\n",
      "9     14\n",
      "1     14\n",
      "27    12\n",
      "3     10\n",
      "38     9\n",
      "26     9\n",
      "37     8\n",
      "4      7\n",
      "17     7\n",
      "13     6\n",
      "41     6\n",
      "16     6\n",
      "34     4\n",
      "Name: Brand, dtype: int64\n"
     ]
    }
   ],
   "source": [
    "display_types = df['Brand'].value_counts().sort_values(ascending=False)\n",
    "print(display_types.iloc[:24])"
   ]
  },
  {
   "cell_type": "code",
   "execution_count": 747,
   "metadata": {},
   "outputs": [
    {
     "name": "stdout",
     "output_type": "stream",
     "text": [
      "81     16\n",
      "22     14\n",
      "84     13\n",
      "121    12\n",
      "94     12\n",
      "24     12\n",
      "62     10\n",
      "2       8\n",
      "0       7\n",
      "35      7\n",
      "125     7\n",
      "79      7\n",
      "71      7\n",
      "29      7\n",
      "119     6\n",
      "30      6\n",
      "126     6\n",
      "102     5\n",
      "44      5\n",
      "106     5\n",
      "56      5\n",
      "97      5\n",
      "104     5\n",
      "132     5\n",
      "Name: Model, dtype: int64\n"
     ]
    }
   ],
   "source": [
    "display_types = df['Model'].value_counts().sort_values(ascending=False)\n",
    "print(display_types.iloc[:24])"
   ]
  },
  {
   "cell_type": "code",
   "execution_count": 748,
   "metadata": {},
   "outputs": [
    {
     "name": "stdout",
     "output_type": "stream",
     "text": [
      "31    134\n",
      "9      34\n",
      "12     26\n",
      "7      24\n",
      "0      19\n",
      "34     14\n",
      "30     14\n",
      "23     12\n",
      "21     11\n",
      "22      9\n",
      "27      9\n",
      "3       9\n",
      "5       7\n",
      "32      6\n",
      "33      5\n",
      "4       4\n",
      "28      4\n",
      "13      4\n",
      "29      4\n",
      "10      3\n",
      "6       3\n",
      "8       3\n",
      "2       3\n",
      "1       2\n",
      "Name: Operating System, dtype: int64\n"
     ]
    }
   ],
   "source": [
    "display_types = df['Operating System'].value_counts().sort_values(ascending=False)\n",
    "print(display_types.iloc[:24])"
   ]
  },
  {
   "cell_type": "code",
   "execution_count": 749,
   "metadata": {},
   "outputs": [
    {
     "name": "stdout",
     "output_type": "stream",
     "text": [
      "1    294\n",
      "2     64\n",
      "0     10\n",
      "3     10\n",
      "4      1\n",
      "Name: Connectivity, dtype: int64\n"
     ]
    }
   ],
   "source": [
    "display_types = df['Connectivity'].value_counts().sort_values(ascending=False)\n",
    "print(display_types.iloc[:])"
   ]
  },
  {
   "cell_type": "code",
   "execution_count": 750,
   "metadata": {},
   "outputs": [
    {
     "name": "stdout",
     "output_type": "stream",
     "text": [
      "0     209\n",
      "9      30\n",
      "25     28\n",
      "21     17\n",
      "14     17\n",
      "17     14\n",
      "8      14\n",
      "23      9\n",
      "16      8\n",
      "4       7\n",
      "13      3\n",
      "20      3\n",
      "15      3\n",
      "10      2\n",
      "7       2\n",
      "Name: Display Type, dtype: int64\n"
     ]
    }
   ],
   "source": [
    "display_types = df['Display Type'].value_counts().sort_values(ascending=False)\n",
    "print(display_types.iloc[:15])"
   ]
  },
  {
   "cell_type": "code",
   "execution_count": 751,
   "metadata": {},
   "outputs": [
    {
     "name": "stdout",
     "output_type": "stream",
     "text": [
      "32    94\n",
      "22    53\n",
      "8     49\n",
      "25    41\n",
      "30    17\n",
      "28    17\n",
      "19    16\n",
      "18    10\n",
      "23    10\n",
      "15     7\n",
      "10     6\n",
      "21     6\n",
      "24     5\n",
      "34     4\n",
      "1      4\n",
      "3      4\n",
      "13     4\n",
      "20     4\n",
      "16     3\n",
      "12     3\n",
      "11     3\n",
      "29     2\n",
      "Name: Resolution, dtype: int64\n"
     ]
    }
   ],
   "source": [
    "display_types = df['Resolution'].value_counts().sort_values(ascending=False)\n",
    "print(display_types.iloc[:22])"
   ]
  },
  {
   "cell_type": "code",
   "execution_count": 752,
   "metadata": {},
   "outputs": [
    {
     "name": "stdout",
     "output_type": "stream",
     "text": [
      "50.0     277\n",
      "30.0      65\n",
      "100.0     26\n",
      "200.0      8\n",
      "1.5        2\n",
      "10.0       1\n",
      "Name: Water Resistance, dtype: int64\n"
     ]
    }
   ],
   "source": [
    "display_types = df['Water Resistance'].value_counts().sort_values(ascending=False)\n",
    "print(display_types.iloc[:])"
   ]
  },
  {
   "cell_type": "code",
   "execution_count": 753,
   "metadata": {},
   "outputs": [
    {
     "name": "stdout",
     "output_type": "stream",
     "text": [
      "14.0    88\n",
      "2.0     54\n",
      "3.0     37\n",
      "1.0     32\n",
      "24.0    29\n",
      "6.0     23\n",
      "5.0     18\n",
      "18.0    15\n",
      "25.0    12\n",
      "16.0    10\n",
      "30.0    10\n",
      "4.0      8\n",
      "7.0      8\n",
      "15.0     6\n",
      "70.0     4\n",
      "9.0      4\n",
      "10.0     4\n",
      "45.0     4\n",
      "40.0     2\n",
      "72.0     2\n",
      "12.0     2\n",
      "20.0     2\n",
      "48.0     1\n",
      "60.0     1\n",
      "56.0     1\n",
      "11.0     1\n",
      "8.0      1\n",
      "Name: Battery Life, dtype: int64\n"
     ]
    }
   ],
   "source": [
    "display_types = df['Battery Life'].value_counts().sort_values(ascending=False)\n",
    "print(display_types.iloc[:])"
   ]
  },
  {
   "cell_type": "code",
   "execution_count": 754,
   "metadata": {},
   "outputs": [
    {
     "name": "stdout",
     "output_type": "stream",
     "text": [
      "1    349\n",
      "0     30\n",
      "Name: GPS, dtype: int64\n"
     ]
    }
   ],
   "source": [
    "display_types = df['GPS'].value_counts().sort_values(ascending=False)\n",
    "print(display_types.iloc[:])"
   ]
  },
  {
   "cell_type": "code",
   "execution_count": null,
   "metadata": {},
   "outputs": [],
   "source": []
  }
 ],
 "metadata": {
  "kernelspec": {
   "display_name": "Python 3",
   "language": "python",
   "name": "python3"
  },
  "language_info": {
   "codemirror_mode": {
    "name": "ipython",
    "version": 3
   },
   "file_extension": ".py",
   "mimetype": "text/x-python",
   "name": "python",
   "nbconvert_exporter": "python",
   "pygments_lexer": "ipython3",
   "version": "3.10.6"
  },
  "orig_nbformat": 4
 },
 "nbformat": 4,
 "nbformat_minor": 2
}
